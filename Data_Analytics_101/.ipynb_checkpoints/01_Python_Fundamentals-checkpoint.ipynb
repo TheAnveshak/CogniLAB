{
 "cells": [
  {
   "cell_type": "markdown",
   "id": "f568de0f-6047-44a6-ba44-0c2750b4a104",
   "metadata": {},
   "source": [
    "#  Python"
   ]
  },
  {
   "cell_type": "markdown",
   "id": "99bc375c-25b3-4c59-b22a-5cbc00e17cd6",
   "metadata": {},
   "source": [
    "Python is a high-level, interpreted programming language known for its simplicity and readability. It emphasizes code clarity with its indentation-based structure, making it a favorite for beginners and professionals alike. Python is widely used in web development, data science, artificial intelligence, automation, and scientific computing.\n",
    "\n",
    "### **Brief History**  \n",
    "Python was created by **Guido van Rossum** in the late 1980s and officially released in **1991**. He developed it as a successor to the ABC language, aiming for a more extensible and easy-to-use language. The name \"Python\" comes from *Monty Python’s Flying Circus*, a British comedy show, rather than the snake. Over time, Python evolved through major versions, with **Python 2** (released in 2000) and **Python 3** (released in 2008), the latter being the actively maintained version today. \n",
    "\n",
    "Its versatility and vast ecosystem have made Python one of the most popular programming languages in the world. 🚀"
   ]
  },
  {
   "cell_type": "markdown",
   "id": "5d5c5730-c17c-4e3f-9cfd-8fb658da7187",
   "metadata": {},
   "source": [
    "# String"
   ]
  },
  {
   "cell_type": "markdown",
   "id": "5c8d1f44-3006-4e34-86b8-ab27f8437916",
   "metadata": {},
   "source": [
    "Python f-strings offer a concise and efficient way to interpolate variables, objects, and expressions directly into strings. By prefixing a string with f or F, you can embed expressions within curly braces `{}`, which are evaluated at runtime."
   ]
  },
  {
   "cell_type": "code",
   "execution_count": null,
   "id": "b66e7c59-930e-4838-87c9-df2e9f49f07c",
   "metadata": {},
   "outputs": [],
   "source": [
    "n = input()\n",
    "print(f'Entered: {n}')\n",
    "\n",
    "x = float(input())\n",
    "d = int(input())\n",
    "\n",
    "print(round(x, d))"
   ]
  },
  {
   "cell_type": "markdown",
   "id": "f34721e7-b03d-452f-9a36-84ae03629114",
   "metadata": {},
   "source": [
    "# List"
   ]
  },
  {
   "cell_type": "markdown",
   "id": "7f71e756-fc53-4843-9c34-99f1f92b54de",
   "metadata": {},
   "source": [
    "#### List Methods\n",
    "\n",
    "<ol>\n",
    "    <li><b>append:</b> Adds an element at the end of the list</li>\n",
    "    <li><b>clear:</b> Removes all the elements from the list</li>\n",
    "    <li><b>copy:</b> Returns a copy of the list</li>\n",
    "    <li><b>count:</b> Returns the number of elements with the specified value</li>\n",
    "    <li><b>extend:</b> Add the elements of a list (or any iterable), to the end of the current list</li>\n",
    "    <li><b>index:</b> Returns the index of the first element with the specified value</li>\n",
    "    <li><b>insert:</b> Adds an element at the specified position</li>\n",
    "    <li><b>pop:</b> Removes the element at the specified position</li>\n",
    "    <li><b>remove:</b> Removes the first item with the specified value</li>\n",
    "    <li><b>reverse:</b> Reverses the order of the list</li>\n",
    "    <li><b>sort:</b> Sorts the list</li>\n",
    "</ol>"
   ]
  },
  {
   "cell_type": "code",
   "execution_count": null,
   "id": "dce7af23-307e-4177-b698-7e2eefe330f1",
   "metadata": {},
   "outputs": [],
   "source": [
    "fib = [0, 1, 1, 2, 3, 5, 8, 13, 21, 34, 55, 89, 144, 233]\n",
    "print(f'Original Fibonacci Series: {fib}')\n",
    "\n",
    "fib.append(377)\n",
    "print(f\"Appended 377: {fib}\")\n",
    "\n",
    "fib.clear()\n",
    "print(f\"Cleared List: {fib}\")\n",
    "\n",
    "fib = [0, 1, 1, 2, 3, 5, 8, 13, 21, 34, 55, 89, 144, 233]\n",
    "\n",
    "new_fib = fib.copy()\n",
    "print(f\"Copied List: {new_fib}\")\n",
    "\n",
    "no34 = fib.count(34)\n",
    "no144 = fib.count(144)\n",
    "print(f\"34 appears {no34} time(s) and 144 appears {no144} time(s)\")\n",
    "\n",
    "extra_fib = [377, 610, 987]\n",
    "fib.extend(extra_fib)\n",
    "print(f\"Extended List: {fib}\")\n",
    "\n",
    "fib = [0, 1, 1, 2, 3, 5, 8, 13, 21, 34, 55, 89, 144, 233]\n",
    "\n",
    "index_21 = fib.index(21)\n",
    "print(f\"21 is at index {index_21}\")\n",
    "\n",
    "fib.insert(7, 4181)\n",
    "print(f\"Inserted 4181 at index 7: {fib}\")\n",
    "\n",
    "print(f\"Popped value {fib.pop(7)}: {fib}\")\n",
    "\n",
    "fib.remove(55)\n",
    "print(f\"Removed 55: {fib}\")\n",
    "\n",
    "fib = [0, 1, 1, 2, 3, 5, 8, 13, 21, 34, 55, 89, 144, 233]\n",
    "fib.reverse()\n",
    "print(f\"Reversed List: {fib}\")\n",
    "\n",
    "fib.sort()\n",
    "print(f\"Sorted List: {fib}\")\n"
   ]
  },
  {
   "cell_type": "markdown",
   "id": "4b3924ff-dcc7-407b-b61a-ff840cd802b4",
   "metadata": {},
   "source": [
    "# Set"
   ]
  },
  {
   "cell_type": "markdown",
   "id": "9819103d-f762-4f14-a523-580873bd2abd",
   "metadata": {},
   "source": [
    "#### Set Methods\n",
    "<ol>\n",
    "    <li><b>add :</b>Adds an element to the set</li>\n",
    "    <li><b>clear :</b>Removes all the elements from the set</li>\n",
    "    <li><b>copy :</b>\tReturns a copy of the set</li>\n",
    "    <li><b>difference [-] :</b>Returns a set containing the difference between two or more sets</li>\n",
    "    <li><b>difference_update [-=] :</b>Removes the items in this set that are also included in another, specified set</li>\n",
    "    <li><b>discard :</b>Remove the specified item without giving error if not found</li>\n",
    "    <li><b>intersection [&] :</b>Returns a set, that is the intersection of two other sets</li>\n",
    "    <li><b>intersection_update [&=] :</b>Removes the items in this set that are not present in other, specified set(s)</li>\n",
    "    <li><b>isdisjoint :</b>Returns whether two sets have a intersection or not</li>\n",
    "    <li><b>issubset [<=] :</b>Returns whether another set contains this set or not</li>\n",
    "    <li><b>issuperset [>=] :</b>Returns whether this set contains another set or not</li>\n",
    "    <li><b>pop :</b>Removes a random element from the set</li>\n",
    "    <li><b>remove :</b>Removes the specified element</li>\n",
    "    <li><b>symmetric_difference [^] :</b>Returns a set with the symmetric differences of two sets</li>\n",
    "    <li><b>symmetric_difference_update[^=] :</b>Inserts the symmetric differences from this set and another</li>\n",
    "    <li><b>union [|] :</b>Return a set containing the union of sets</li>\n",
    "    <li><b>update [|=] :</b>Update the set with the union of this set and others</li>\n",
    "</ol>"
   ]
  },
  {
   "cell_type": "code",
   "execution_count": null,
   "id": "520eedcf-e7ca-4ed2-bcd3-459f39b28e95",
   "metadata": {},
   "outputs": [],
   "source": [
    "MDM = {130, 111, 129, 162, 105, 186, 156, 161, 157, 106, 147, 143, 159, 175, 176, 182}\n",
    "OE = {103, 113, 137, 138, 141, 152, 156, 157, 171, 181, 182, 186}\n",
    "\n",
    "print(f\"Original sets:\\nMDM: {MDM}\\nOE: {OE}\")\n",
    "\n",
    "MDM.add(113)\n",
    "print(f\"After adding 113: {MDM}\")\n",
    "\n",
    "MDM.clear()\n",
    "print(f\"After clearing: {MDM}\")\n",
    "\n",
    "MDM = {130, 111, 129, 162, 105, 186, 156, 161, 157, 106, 147, 143, 159, 175, 176, 182}\n",
    "MDM_copy = MDM.copy()\n",
    "print(f\"Copied set: {MDM_copy}\")\n",
    "\n",
    "print(f\"Difference between MDM and OE: {MDM - OE}\")\n",
    "\n",
    "MDM -= OE\n",
    "print(f\"MDM after updating with difference: {MDM}\")\n",
    "\n",
    "MDM = {130, 111, 129, 162, 105, 186, 156, 161, 157, 106, 147, 143, 159, 175, 176, 182}\n",
    "MDM.discard(129)\n",
    "print(f\"After discarding 129: {MDM}\")\n",
    "\n",
    "print(f\"Intersection between MDM and OE: {MDM & OE}\")\n",
    "\n",
    "MDM &= OE\n",
    "print(f\"MDM after updating with intersection: {MDM}\")\n",
    "\n",
    "print(f\"MDM and OE are disjoint: {MDM.isdisjoint(OE)}\")\n",
    "\n",
    "print(f\"MDM is a subset of OE: {MDM.issubset(OE)}\")\n",
    "\n",
    "print(f\"MDM is a superset of OE: {MDM.issuperset(OE)}\")\n",
    "\n",
    "MDM = {130, 111, 129, 162, 105, 186, 156, 161, 157, 106, 147, 143, 159, 175, 176, 182}\n",
    "print(f\"Removed {MDM.pop()} from MDM: {MDM}\")\n",
    "\n",
    "MDM = {130, 111, 129, 162, 105, 186, 156, 161, 157, 106, 147, 143, 159, 175, 176, 182}\n",
    "MDM.remove(129)\n",
    "print(f\"After removing 129: {MDM}\")\n",
    "\n",
    "print(f\"Symmetric difference between MDM and OE: {MDM ^ OE}\")\n",
    "\n",
    "print(f\"Union of MDM and OE: {MDM | OE}\")"
   ]
  },
  {
   "cell_type": "markdown",
   "id": "2b3c43b7-7303-43cc-9f05-f3ba1b3d955f",
   "metadata": {},
   "source": [
    "# Dictionary"
   ]
  },
  {
   "cell_type": "markdown",
   "id": "f6070cf3-2399-43cc-8c7f-971cdf19946d",
   "metadata": {},
   "source": [
    "#### Dictionary Methods\n",
    "<ol>\n",
    "    <li><b>clear: </b>Removes all the elements from the dictionary</li>\n",
    "    <li><b>copy: </b>Returns a copy of the dictionary</li>\n",
    "    <li><b>fromkeys: </b>Returns a dictionary with the specified keys and value</li>\n",
    "    <li><b>get: </b>Returns the value of the specified key</li>\n",
    "    <li><b>items: </b>Returns a list containing a tuple for each key value pair</li>\n",
    "    <li><b>keys: </b>Returns a list containing the dictionary's keys</li>\n",
    "    <li><b>pop: </b>Removes the element with the specified key</li>\n",
    "    <li><b>popitem: </b>Removes the last inserted key-value pair</li>\n",
    "    <li><b>setdefault: </b>Returns the value of the specified key. If the key does not exist: insert the key, with the specified value</li>\n",
    "    <li><b>update: </b>Updates the dictionary with the specified key-value pairs</li>\n",
    "    <li><b>values: </b>Returns a list of all the values in the dictionary</li>\n",
    "</ol>"
   ]
  },
  {
   "cell_type": "code",
   "execution_count": null,
   "id": "878604fa-9cec-493c-a051-accafa9222b5",
   "metadata": {},
   "outputs": [],
   "source": [
    "Studs = {151:'Ayush', 152: 'Parin', 153:'Siddhi', 154:'Sourabh', 156: 'Dhavall', 157: 'Aarya', 158: 'Yashraj', 159:'Karan', 160:'Sohum'}\n",
    "\n",
    "#clear\n",
    "Studs.clear()\n",
    "print(Studs)\n",
    "\n",
    "Studs = {151:'Ayush', 152: 'Parin', 153:'Siddhi', 154:'Sourabh', 156: 'Dhavall', 157: 'Aarya', 158: 'Yashraj', 159:'Karan', 160:'Sohum'}\n",
    "#copy\n",
    "Studs_copy = Studs.copy()\n",
    "print(Studs_copy)\n",
    "\n",
    "#fromkeys\n",
    "keys = [153,154,156, 157, 158, 159]\n",
    "PreStuds = Studs.fromkeys(keys, 'Present')\n",
    "print(LabStuds)\n",
    "\n",
    "#get\n",
    "Stud156 = PreStuds.get(156)\n",
    "print(Stud156)\n",
    "\n",
    "#items\n",
    "print(Studs.items())\n",
    "\n",
    "#keys\n",
    "print(Studs.keys())\n",
    "\n",
    "#pop\n",
    "PreStuds.pop(154)\n",
    "print(PreStuds)\n",
    "\n",
    "#popitems\n",
    "PreStuds[154] = 'Present'\n",
    "print(PreStuds)\n",
    "PreStuds.popitem()\n",
    "print(PreStuds)\n",
    "\n",
    "#setDefault\n",
    "print(PreStuds.setdefault(160, 'Absent') , Studs.setdefault(160, 'Absent'))\n",
    "\n",
    "#Update\n",
    "Studs.update({155:'Hussain'})\n",
    "print(Studs)\n",
    "#Values\n",
    "print(Studs.values())"
   ]
  },
  {
   "cell_type": "markdown",
   "id": "3630cc39-6f68-4d4f-a16e-f19c1ef97329",
   "metadata": {},
   "source": [
    "# Defining Functions"
   ]
  },
  {
   "cell_type": "markdown",
   "id": "d9d50f9a-a9da-46b9-a3ef-841edd0e6e59",
   "metadata": {},
   "source": [
    "#### 5 formulae\n",
    "<ol>\n",
    "    <li><b>Perimeter of rectagle :</b>  = 2(l + b)</li>\n",
    "    <li><b>Curved Surface Area of Cone :</b> pi.r.sqrt(r^2 + h^2)</li>\n",
    "    <li><b>Nth term of A.P :</b> a + (n-1)d</li>\n",
    "    <li><b>Product of Finite G.P :</b>a(r^n - 1)/(r-1)</li>\n",
    "    <li><b>Section formula :</b> (mx1 + (1-m)x2 , my1 +(1-m)y2)</li>\n",
    "</ol>"
   ]
  },
  {
   "cell_type": "code",
   "execution_count": null,
   "id": "9c48cc63-4fc6-4850-a9f0-3923337c3f43",
   "metadata": {},
   "outputs": [],
   "source": [
    "import numpy as np\n",
    "def Perimeter_Rectangle(l ,b):\n",
    "    return 2*(l+b)\n",
    "\n",
    "def Curved_Cone_Area(r,h):\n",
    "    return np.pi*r*np.sqrt(r**2 + h**2)\n",
    "\n",
    "def Nth_term_AP(a,d,n):\n",
    "    return a + (n-1)*d\n",
    "\n",
    "def Product_GP(a,r,n):\n",
    "    return a*(r**n - 1)/(r-1)\n",
    "\n",
    "def Section_Formula(p1, p2, m):\n",
    "    return m*p1 + (1-m)*p2"
   ]
  },
  {
   "cell_type": "code",
   "execution_count": null,
   "id": "b7c7c07d-746f-4ad5-9141-613da8f18730",
   "metadata": {},
   "outputs": [],
   "source": []
  }
 ],
 "metadata": {
  "kernelspec": {
   "display_name": "Python 3",
   "language": "python",
   "name": "python3"
  },
  "language_info": {
   "codemirror_mode": {
    "name": "ipython",
    "version": 3
   },
   "file_extension": ".py",
   "mimetype": "text/x-python",
   "name": "python",
   "nbconvert_exporter": "python",
   "pygments_lexer": "ipython3",
   "version": "3.12.2"
  }
 },
 "nbformat": 4,
 "nbformat_minor": 5
}
