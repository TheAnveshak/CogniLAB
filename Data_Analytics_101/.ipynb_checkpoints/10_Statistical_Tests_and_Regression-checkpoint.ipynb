{
 "cells": [
  {
   "cell_type": "code",
   "execution_count": 20,
   "metadata": {
    "id": "3eGYwC9cipvv"
   },
   "outputs": [],
   "source": [
    "import numpy as np\n",
    "import scipy as sc\n",
    "import matplotlib.pyplot as plt\n",
    "import pandas as pd\n",
    "import seaborn as sns\n",
    "import time\n",
    "import scipy.stats as scst\n",
    "import statsmodels.api as sm\n",
    "from statsmodels.formula.api import ols\n",
    "import scipy.stats as stats\n",
    "from scipy.stats import f\n",
    "from statsmodels.formula.api import ols\n",
    "from statsmodels.graphics.factorplots import interaction_plot"
   ]
  },
  {
   "cell_type": "markdown",
   "metadata": {
    "id": "OEIySbFbikAx"
   },
   "source": [
    "# Defects on Wafer Surfaces in Integrated Circuit Fabrication\n",
    "\n",
    "Defects on wafer surfaces in integrated circuit fabrication are unavoidable. In a particular process, the following data are collected:\n",
    "\n",
    "| # Defects  |  0  |  1  |  2  |  3  |  4  |  5  |  6  |  7  |  8  |  9  | 10  | 11  | 12  |\n",
    "|------------|----|----|----|----|----|----|----|----|----|----|----|----|----|\n",
    "| # of Wafers |  4  | 13  | 34  | 56  | 70  | 70  | 58  | 42  | 25  | 15  |  9  |  3  |  1  |\n",
    "\n",
    "## Tasks  \n",
    "1. **Fit the Poisson distribution** to the above data.  \n",
    "2. **Does the assumption of the Poisson distribution seem appropriate?** (Use the $\\chi^2$ test)\n"
   ]
  },
  {
   "cell_type": "code",
   "execution_count": null,
   "metadata": {
    "colab": {
     "base_uri": "https://localhost:8080/"
    },
    "id": "jX4sAExogCf5",
    "outputId": "d89457d5-13be-4c66-fe8b-b83e9c51a0a6"
   },
   "outputs": [
    {
     "data": {
      "text/plain": [
       "array([0.01  , 0.0325, 0.085 , 0.14  , 0.175 , 0.175 , 0.145 , 0.105 ,\n",
       "       0.0625, 0.0375, 0.0225, 0.0075, 0.0025])"
      ]
     },
     "execution_count": 20,
     "metadata": {},
     "output_type": "execute_result"
    }
   ],
   "source": [
    "ndefect = np.array([0, 1, 2 , 3, 4, 5, 6, 7, 8, 9, 10, 11, 12])\n",
    "nwafer = np.array([4, 13, 34, 56, 70, 70, 58, 42, 25, 15, 9, 3, 1])\n",
    "pwafer = nwafer/np.sum(nwafer)\n",
    "pwafer"
   ]
  },
  {
   "cell_type": "code",
   "execution_count": null,
   "metadata": {
    "colab": {
     "base_uri": "https://localhost:8080/",
     "height": 517
    },
    "id": "wXbNtZcej3z-",
    "outputId": "15f295ae-893e-4fe2-b613-6ac170fe9469"
   },
   "outputs": [
    {
     "name": "stdout",
     "output_type": "stream",
     "text": [
      "4.9775\n",
      "[0.00689127 0.03430129 0.08536734 0.14163865 0.17625159 0.17545846\n",
      " 0.14555741 0.10350172 0.06439748 0.03561538 0.01772756 0.00802172\n",
      " 0.00332734]\n"
     ]
    },
    {
     "data": {
      "text/plain": [
       "<matplotlib.collections.LineCollection at 0x7ad6c5255cd0>"
      ]
     },
     "execution_count": 36,
     "metadata": {},
     "output_type": "execute_result"
    },
    {
     "data": {
      "image/png": "[encoded data removed]",
      "text/plain": [
       "<Figure size 640x480 with 1 Axes>"
      ]
     },
     "metadata": {},
     "output_type": "display_data"
    }
   ],
   "source": [
    "lam = np.average(ndefect, weights=nwafer)\n",
    "print(avg)\n",
    "# plt.plot(ndefect, nwafer)\n",
    "p = sc.stats.poisson.pmf(ndefect, lam)\n",
    "print(p)\n",
    "plt.plot(ndefect, p, 'bo', ms=8, label='poisson pmf')\n",
    "plt.plot(ndefect, pwafer, 'o', ms=8, label='data Dist')\n",
    "plt.vlines(ndefect, 0, p, colors='b', lw=5, alpha=0.5)\n",
    "plt.vlines(ndefect, 0, pwafer, colors='r', lw=1, alpha=0.5)"
   ]
  },
  {
   "cell_type": "code",
   "execution_count": null,
   "metadata": {
    "colab": {
     "base_uri": "https://localhost:8080/"
    },
    "id": "dSIdwFJ6qkLt",
    "outputId": "7db792a1-090f-4ad4-9f69-bab981e1f10d"
   },
   "outputs": [
    {
     "name": "stdout",
     "output_type": "stream",
     "text": [
      "1.463955600151248e+28 23.33666415864534\n"
     ]
    }
   ],
   "source": [
    "alpha = 0.05\n",
    "xbar = lam\n",
    "var = np.sum((nwafer - xbar)**2/(len(nwafer)))\n",
    "# chi_2 = ((len(nwafer)-1)*var)/xbar\n",
    "chi2 = np.sum([(pwafer[i] - p[i])**2/p[i] for i in range(len(nwafer))])\n",
    "chi_2_crit = sc.stats.chi2.ppf(1-alpha/2, len(nwafer)-1)\n",
    "print(chi_2, chi_2_crit)"
   ]
  },
  {
   "cell_type": "code",
   "execution_count": null,
   "metadata": {
    "colab": {
     "base_uri": "https://localhost:8080/"
    },
    "id": "S04fJ4mclI9Z",
    "outputId": "e7508c36-9c9f-4744-8662-b61bf9d32ca5"
   },
   "outputs": [
    {
     "data": {
      "text/plain": [
       "(146.5844241870481,\n",
       " 2.7921572029641545e-25,\n",
       " 12,\n",
       " array([[ 0.65271967,  2.28451883,  5.87447699,  9.62761506, 12.07531381,\n",
       "         12.23849372, 10.44351464,  7.9958159 ,  5.38493724,  3.91631799,\n",
       "          3.10041841,  2.28451883,  2.12133891],\n",
       "        [ 3.34728033, 11.71548117, 30.12552301, 49.37238494, 61.92468619,\n",
       "         62.76150628, 53.55648536, 41.0041841 , 27.61506276, 20.08368201,\n",
       "         15.89958159, 11.71548117, 10.87866109]]))"
      ]
     },
     "execution_count": 27,
     "metadata": {},
     "output_type": "execute_result"
    }
   ],
   "source": [
    "data = [ndefect, nwafer]\n",
    "stats, p, dof, expfreq = sc.stats.chi2_contingency(data)\n",
    "stats, p, dof, expfreq"
   ]
  },
  {
   "cell_type": "markdown",
   "metadata": {
    "id": "28XP3StCw4Fn"
   },
   "source": [
    "# Job Satisfaction and Experience: Chi-Squared Test\n",
    "\n",
    "Consider the following data about job satisfaction in an unknown organization:\n",
    "\n",
    "| Job Satisfaction  | Less Than 1 Year | 1-3 Years | 3-5 Years | Over 5 Years |\n",
    "|------------------|----------------|-----------|----------|--------------|\n",
    "| **Satisfied**    | 20             | 35        | 35       | 60           |\n",
    "| **Neutral**      | 22             | 28        | 20       | 40           |\n",
    "| **Dissatisfied** | 15             | 15        | 20       | 18           |\n",
    "\n",
    "## Task  \n",
    "\n",
    "Perform a **Chi-Squared test** step by step to determine whether job satisfaction is independent of experience at a **5% significance level**.  \n",
    "\n",
    "### Steps:  \n",
    "1. Define the hypotheses:  \n",
    "   - **Null Hypothesis ($H_0$):** Job satisfaction is independent of experience.  \n",
    "   - **Alternative Hypothesis ($H_a$):** Job satisfaction depends on experience.  \n",
    "\n",
    "2. Compute the **expected frequencies** under $H_0$.  \n",
    "3. Calculate the **Chi-Squared test statistic**:  \n",
    "   $$\n",
    "   \\chi^2 = \\sum \\frac{(O - E)^2}{E}\n",
    "   $$\n",
    "   where $O$ = Observed frequency, $E$ = Expected frequency.  \n",
    "\n",
    "4. Compare with the **critical value** or compute the **p-value**.  \n",
    "5. **Interpret the result** based on the 5% significance level.  \n",
    "\n",
    "### Verification:  \n",
    "Use Python’s inbuilt functions (`scipy.stats.chi2_contingency`) to confirm the manual computation.  \n"
   ]
  },
  {
   "cell_type": "code",
   "execution_count": null,
   "metadata": {
    "colab": {
     "base_uri": "https://localhost:8080/"
    },
    "id": "1vE32mXTvFKp",
    "outputId": "8b741127-b8da-449b-bdc1-4aebbad66335"
   },
   "outputs": [
    {
     "data": {
      "text/plain": [
       "(array([[26.06707317, 35.67073171, 34.29878049, 53.96341463],\n",
       "        [19.11585366, 26.15853659, 25.15243902, 39.57317073],\n",
       "        [11.81707317, 16.17073171, 15.54878049, 24.46341463]]),\n",
       " 0.00029087066650390625)"
      ]
     },
     "execution_count": 69,
     "metadata": {},
     "output_type": "execute_result"
    }
   ],
   "source": [
    "\n",
    "sat = np.array([[20,35,35,60],[22,28,20,40],[15,15,20,18]])\n",
    "c_sum = np.sum(sat, axis=0)\n",
    "r_sum = np.sum(sat, axis=1)\n",
    "sat, c_sum, r_sum , np.sum(c_sum), np.sum(r_sum)\n",
    "t1 = time.time()\n",
    "E = np.zeros(np.shape(sat))\n",
    "for i in range(len(r_sum)):\n",
    "    for j in range(len(c_sum)):\n",
    "        E[i,j] = (r_sum[i]*c_sum[j])/np.sum(c_sum)\n",
    "t2 = time.time()\n",
    "alpha = 0.05\n",
    "E, t2-t1"
   ]
  },
  {
   "cell_type": "code",
   "execution_count": null,
   "metadata": {
    "colab": {
     "base_uri": "https://localhost:8080/"
    },
    "id": "nFh3kLK9yWFp",
    "outputId": "a4013dcc-962c-4cf5-da79-e207a2a01cbb"
   },
   "outputs": [
    {
     "data": {
      "text/plain": [
       "(array([[26.06707317, 35.67073171, 34.29878049, 53.96341463],\n",
       "        [19.11585366, 26.15853659, 25.15243902, 39.57317073],\n",
       "        [11.81707317, 16.17073171, 15.54878049, 24.46341463]]),\n",
       " 0.00028133392333984375)"
      ]
     },
     "execution_count": 70,
     "metadata": {},
     "output_type": "execute_result"
    }
   ],
   "source": [
    "t1 = time.time()\n",
    "F  = (r_sum[:, np.newaxis] * c_sum)/np.sum(c_sum)\n",
    "t2 = time.time()\n",
    "F, t2-t1"
   ]
  },
  {
   "cell_type": "code",
   "execution_count": null,
   "metadata": {
    "colab": {
     "base_uri": "https://localhost:8080/"
    },
    "id": "ddnlceJZ2mCY",
    "outputId": "82e6664f-5227-4bd6-c774-09b8828023cb"
   },
   "outputs": [
    {
     "data": {
      "text/plain": [
       "7.663218859350465"
      ]
     },
     "execution_count": 72,
     "metadata": {},
     "output_type": "execute_result"
    }
   ],
   "source": [
    "chi2 = np.sum((sat - E)**2/E)\n",
    "chi2"
   ]
  },
  {
   "cell_type": "code",
   "execution_count": null,
   "metadata": {
    "colab": {
     "base_uri": "https://localhost:8080/"
    },
    "id": "gyfCc8Yw27rs",
    "outputId": "e9df3783-c88f-4a35-81b0-244b41c53ded"
   },
   "outputs": [
    {
     "data": {
      "text/plain": [
       "14.44937533544792"
      ]
     },
     "execution_count": 75,
     "metadata": {},
     "output_type": "execute_result"
    }
   ],
   "source": [
    "chi_crit = sc.stats.chi2.ppf(1-alpha/2 , (len(r_sum)-1)*(len(c_sum)-1))\n",
    "chi_crit"
   ]
  },
  {
   "cell_type": "markdown",
   "metadata": {
    "id": "XMWnU-WT4cBL"
   },
   "source": [
    "# Gas Economy Comparison: Radial vs. Belted Tires\n",
    "\n",
    "Fifteen cars were equipped with **radial tires** and driven over a test course. Then, the **same 15 cars** (with the same drivers) were equipped with **regular belted tires** and driven over the same course.  \n",
    "\n",
    "After each run, the cars' gas economy (in km/l) was measured, resulting in the following dataset:\n",
    "\n",
    "### Gas Economy Data (km/l)\n",
    "\n",
    "| Car # | Radial | Belted |\n",
    "|-------|--------|--------|\n",
    "| 1     | 4.2    | 4.1    |\n",
    "| 2     | 4.7    | 4.9    |\n",
    "| 3     | 6.6    | 6.2    |\n",
    "| 4     | 7.0    | 6.9    |\n",
    "| 5     | 6.7    | 6.8    |\n",
    "| 6     | 4.5    | 4.4    |\n",
    "| 7     | 5.7    | 5.7    |\n",
    "| 8     | 6.0    | 5.8    |\n",
    "| 9     | 7.4    | 6.9    |\n",
    "| 10    | 4.9    | 4.7    |\n",
    "| 11    | 6.1    | 6.0    |\n",
    "| 12    | 5.2    | 4.9    |\n",
    "| 13    | 4.9    | 6.3    |\n",
    "| 14    | 7.2    | 5.9    |\n",
    "| 15    | 5.5    | 4.2    |\n",
    "\n",
    "## Tasks\n",
    "\n",
    "### (a) Prepare the above data using a **Pandas DataFrame** for t-test.\n",
    "\n",
    "### (b) Make a **box plot** for the two samples and visually assess if there is a significant difference in gas economy.\n",
    "\n",
    "### (c) Perform a **2-sample t-test** (assuming equal population variances)  \n",
    "- **Null Hypothesis ($H_0$):** The two samples have the same mean fuel economy.  \n",
    "- **Alternative Hypothesis ($H_a$):** The two samples have different mean fuel economies.  \n",
    "- Perform the test at **$\\alpha = 0.05$** using both **critical values** and **p-values**.  \n",
    "- Determine the conclusion at **$\\alpha = 0.01$**.\n",
    "\n",
    "### (d) Compute the **95% confidence interval** for part **(c)**.\n",
    "\n",
    "### (e) Perform a **2-sample t-test** (assuming unequal population variances)  \n",
    "- Test the same hypotheses at **$\\alpha = 0.05$** using critical values and p-values.  \n",
    "- Determine the conclusion at **$\\alpha = 0.01$**.\n",
    "\n",
    "### (f) Compute the **95% confidence interval** for part **(e)**.\n",
    "\n",
    "### (g) Perform a **paired t-test**  \n",
    "- Check if there is statistical evidence that both tire types produce the same fuel economy at **$\\alpha = 0.01$**.\n",
    "\n",
    "### (h) Verify all conclusions using Python’s inbuilt packages (`scipy.stats.ttest_ind`, `ttest_rel`, etc.).\n"
   ]
  },
  {
   "cell_type": "code",
   "execution_count": null,
   "metadata": {
    "colab": {
     "base_uri": "https://localhost:8080/",
     "height": 519
    },
    "id": "sOJr2yDV4dZC",
    "outputId": "eba59255-bac5-4cc0-d3b4-c56b78923192"
   },
   "outputs": [
    {
     "data": {
      "application/vnd.google.colaboratory.intrinsic+json": {
       "summary": "{\n  \"name\": \"df\",\n  \"rows\": 15,\n  \"fields\": [\n    {\n      \"column\": \"radial\",\n      \"properties\": {\n        \"dtype\": \"number\",\n        \"std\": 1.03748780830473,\n        \"min\": 4.2,\n        \"max\": 7.4,\n        \"num_unique_values\": 14,\n        \"samples\": [\n          4.9,\n          5.2,\n          4.2\n        ],\n        \"semantic_type\": \"\",\n        \"description\": \"\"\n      }\n    },\n    {\n      \"column\": \"belted\",\n      \"properties\": {\n        \"dtype\": \"number\",\n        \"std\": 0.9784827905633147,\n        \"min\": 4.1,\n        \"max\": 6.9,\n        \"num_unique_values\": 13,\n        \"samples\": [\n          5.9,\n          6.0,\n          4.1\n        ],\n        \"semantic_type\": \"\",\n        \"description\": \"\"\n      }\n    }\n  ]\n}",
       "type": "dataframe",
       "variable_name": "df"
      },
      "text/html": [
       "\n",
       "  <div id=\"df-f9a1ce75-6271-4157-981b-2333c2f5dfa3\" class=\"colab-df-container\">\n",
       "    <div>\n",
       "<style scoped>\n",
       "    .dataframe tbody tr th:only-of-type {\n",
       "        vertical-align: middle;\n",
       "    }\n",
       "\n",
       "    .dataframe tbody tr th {\n",
       "        vertical-align: top;\n",
       "    }\n",
       "\n",
       "    .dataframe thead th {\n",
       "        text-align: right;\n",
       "    }\n",
       "</style>\n",
       "<table border=\"1\" class=\"dataframe\">\n",
       "  <thead>\n",
       "    <tr style=\"text-align: right;\">\n",
       "      <th></th>\n",
       "      <th>radial</th>\n",
       "      <th>belted</th>\n",
       "    </tr>\n",
       "  </thead>\n",
       "  <tbody>\n",
       "    <tr>\n",
       "      <th>0</th>\n",
       "      <td>4.2</td>\n",
       "      <td>4.1</td>\n",
       "    </tr>\n",
       "    <tr>\n",
       "      <th>1</th>\n",
       "      <td>4.7</td>\n",
       "      <td>4.9</td>\n",
       "    </tr>\n",
       "    <tr>\n",
       "      <th>2</th>\n",
       "      <td>6.6</td>\n",
       "      <td>6.2</td>\n",
       "    </tr>\n",
       "    <tr>\n",
       "      <th>3</th>\n",
       "      <td>7.0</td>\n",
       "      <td>6.9</td>\n",
       "    </tr>\n",
       "    <tr>\n",
       "      <th>4</th>\n",
       "      <td>6.7</td>\n",
       "      <td>6.8</td>\n",
       "    </tr>\n",
       "    <tr>\n",
       "      <th>5</th>\n",
       "      <td>4.5</td>\n",
       "      <td>4.4</td>\n",
       "    </tr>\n",
       "    <tr>\n",
       "      <th>6</th>\n",
       "      <td>5.7</td>\n",
       "      <td>5.7</td>\n",
       "    </tr>\n",
       "    <tr>\n",
       "      <th>7</th>\n",
       "      <td>6.0</td>\n",
       "      <td>5.8</td>\n",
       "    </tr>\n",
       "    <tr>\n",
       "      <th>8</th>\n",
       "      <td>7.4</td>\n",
       "      <td>6.9</td>\n",
       "    </tr>\n",
       "    <tr>\n",
       "      <th>9</th>\n",
       "      <td>4.9</td>\n",
       "      <td>4.7</td>\n",
       "    </tr>\n",
       "    <tr>\n",
       "      <th>10</th>\n",
       "      <td>6.1</td>\n",
       "      <td>6.0</td>\n",
       "    </tr>\n",
       "    <tr>\n",
       "      <th>11</th>\n",
       "      <td>5.2</td>\n",
       "      <td>4.9</td>\n",
       "    </tr>\n",
       "    <tr>\n",
       "      <th>12</th>\n",
       "      <td>4.9</td>\n",
       "      <td>6.3</td>\n",
       "    </tr>\n",
       "    <tr>\n",
       "      <th>13</th>\n",
       "      <td>7.2</td>\n",
       "      <td>5.9</td>\n",
       "    </tr>\n",
       "    <tr>\n",
       "      <th>14</th>\n",
       "      <td>5.5</td>\n",
       "      <td>4.2</td>\n",
       "    </tr>\n",
       "  </tbody>\n",
       "</table>\n",
       "</div>\n",
       "    <div class=\"colab-df-buttons\">\n",
       "\n",
       "  <div class=\"colab-df-container\">\n",
       "    <button class=\"colab-df-convert\" onclick=\"convertToInteractive('df-f9a1ce75-6271-4157-981b-2333c2f5dfa3')\"\n",
       "            title=\"Convert this dataframe to an interactive table.\"\n",
       "            style=\"display:none;\">\n",
       "\n",
       "  <svg xmlns=\"http://www.w3.org/2000/svg\" height=\"24px\" viewBox=\"0 -960 960 960\">\n",
       "    <path d=\"M120-120v-720h720v720H120Zm60-500h600v-160H180v160Zm220 220h160v-160H400v160Zm0 220h160v-160H400v160ZM180-400h160v-160H180v160Zm440 0h160v-160H620v160ZM180-180h160v-160H180v160Zm440 0h160v-160H620v160Z\"/>\n",
       "  </svg>\n",
       "    </button>\n",
       "\n",
       "  <style>\n",
       "    .colab-df-container {\n",
       "      display:flex;\n",
       "      gap: 12px;\n",
       "    }\n",
       "\n",
       "    .colab-df-convert {\n",
       "      background-color: #E8F0FE;\n",
       "      border: none;\n",
       "      border-radius: 50%;\n",
       "      cursor: pointer;\n",
       "      display: none;\n",
       "      fill: #1967D2;\n",
       "      height: 32px;\n",
       "      padding: 0 0 0 0;\n",
       "      width: 32px;\n",
       "    }\n",
       "\n",
       "    .colab-df-convert:hover {\n",
       "      background-color: #E2EBFA;\n",
       "      box-shadow: 0px 1px 2px rgba(60, 64, 67, 0.3), 0px 1px 3px 1px rgba(60, 64, 67, 0.15);\n",
       "      fill: #174EA6;\n",
       "    }\n",
       "\n",
       "    .colab-df-buttons div {\n",
       "      margin-bottom: 4px;\n",
       "    }\n",
       "\n",
       "    [theme=dark] .colab-df-convert {\n",
       "      background-color: #3B4455;\n",
       "      fill: #D2E3FC;\n",
       "    }\n",
       "\n",
       "    [theme=dark] .colab-df-convert:hover {\n",
       "      background-color: #434B5C;\n",
       "      box-shadow: 0px 1px 3px 1px rgba(0, 0, 0, 0.15);\n",
       "      filter: drop-shadow(0px 1px 2px rgba(0, 0, 0, 0.3));\n",
       "      fill: #FFFFFF;\n",
       "    }\n",
       "  </style>\n",
       "\n",
       "    <script>\n",
       "      const buttonEl =\n",
       "        document.querySelector('#df-f9a1ce75-6271-4157-981b-2333c2f5dfa3 button.colab-df-convert');\n",
       "      buttonEl.style.display =\n",
       "        google.colab.kernel.accessAllowed ? 'block' : 'none';\n",
       "\n",
       "      async function convertToInteractive(key) {\n",
       "        const element = document.querySelector('#df-f9a1ce75-6271-4157-981b-2333c2f5dfa3');\n",
       "        const dataTable =\n",
       "          await google.colab.kernel.invokeFunction('convertToInteractive',\n",
       "                                                    [key], {});\n",
       "        if (!dataTable) return;\n",
       "\n",
       "        const docLinkHtml = 'Like what you see? Visit the ' +\n",
       "          '<a target=\"_blank\" href=https://colab.research.google.com/notebooks/data_table.ipynb>data table notebook</a>'\n",
       "          + ' to learn more about interactive tables.';\n",
       "        element.innerHTML = '';\n",
       "        dataTable['output_type'] = 'display_data';\n",
       "        await google.colab.output.renderOutput(dataTable, element);\n",
       "        const docLink = document.createElement('div');\n",
       "        docLink.innerHTML = docLinkHtml;\n",
       "        element.appendChild(docLink);\n",
       "      }\n",
       "    </script>\n",
       "  </div>\n",
       "\n",
       "\n",
       "<div id=\"df-531b67b7-7295-446f-8dba-fe875f0c3e33\">\n",
       "  <button class=\"colab-df-quickchart\" onclick=\"quickchart('df-531b67b7-7295-446f-8dba-fe875f0c3e33')\"\n",
       "            title=\"Suggest charts\"\n",
       "            style=\"display:none;\">\n",
       "\n",
       "<svg xmlns=\"http://www.w3.org/2000/svg\" height=\"24px\"viewBox=\"0 0 24 24\"\n",
       "     width=\"24px\">\n",
       "    <g>\n",
       "        <path d=\"M19 3H5c-1.1 0-2 .9-2 2v14c0 1.1.9 2 2 2h14c1.1 0 2-.9 2-2V5c0-1.1-.9-2-2-2zM9 17H7v-7h2v7zm4 0h-2V7h2v10zm4 0h-2v-4h2v4z\"/>\n",
       "    </g>\n",
       "</svg>\n",
       "  </button>\n",
       "\n",
       "<style>\n",
       "  .colab-df-quickchart {\n",
       "      --bg-color: #E8F0FE;\n",
       "      --fill-color: #1967D2;\n",
       "      --hover-bg-color: #E2EBFA;\n",
       "      --hover-fill-color: #174EA6;\n",
       "      --disabled-fill-color: #AAA;\n",
       "      --disabled-bg-color: #DDD;\n",
       "  }\n",
       "\n",
       "  [theme=dark] .colab-df-quickchart {\n",
       "      --bg-color: #3B4455;\n",
       "      --fill-color: #D2E3FC;\n",
       "      --hover-bg-color: #434B5C;\n",
       "      --hover-fill-color: #FFFFFF;\n",
       "      --disabled-bg-color: #3B4455;\n",
       "      --disabled-fill-color: #666;\n",
       "  }\n",
       "\n",
       "  .colab-df-quickchart {\n",
       "    background-color: var(--bg-color);\n",
       "    border: none;\n",
       "    border-radius: 50%;\n",
       "    cursor: pointer;\n",
       "    display: none;\n",
       "    fill: var(--fill-color);\n",
       "    height: 32px;\n",
       "    padding: 0;\n",
       "    width: 32px;\n",
       "  }\n",
       "\n",
       "  .colab-df-quickchart:hover {\n",
       "    background-color: var(--hover-bg-color);\n",
       "    box-shadow: 0 1px 2px rgba(60, 64, 67, 0.3), 0 1px 3px 1px rgba(60, 64, 67, 0.15);\n",
       "    fill: var(--button-hover-fill-color);\n",
       "  }\n",
       "\n",
       "  .colab-df-quickchart-complete:disabled,\n",
       "  .colab-df-quickchart-complete:disabled:hover {\n",
       "    background-color: var(--disabled-bg-color);\n",
       "    fill: var(--disabled-fill-color);\n",
       "    box-shadow: none;\n",
       "  }\n",
       "\n",
       "  .colab-df-spinner {\n",
       "    border: 2px solid var(--fill-color);\n",
       "    border-color: transparent;\n",
       "    border-bottom-color: var(--fill-color);\n",
       "    animation:\n",
       "      spin 1s steps(1) infinite;\n",
       "  }\n",
       "\n",
       "  @keyframes spin {\n",
       "    0% {\n",
       "      border-color: transparent;\n",
       "      border-bottom-color: var(--fill-color);\n",
       "      border-left-color: var(--fill-color);\n",
       "    }\n",
       "    20% {\n",
       "      border-color: transparent;\n",
       "      border-left-color: var(--fill-color);\n",
       "      border-top-color: var(--fill-color);\n",
       "    }\n",
       "    30% {\n",
       "      border-color: transparent;\n",
       "      border-left-color: var(--fill-color);\n",
       "      border-top-color: var(--fill-color);\n",
       "      border-right-color: var(--fill-color);\n",
       "    }\n",
       "    40% {\n",
       "      border-color: transparent;\n",
       "      border-right-color: var(--fill-color);\n",
       "      border-top-color: var(--fill-color);\n",
       "    }\n",
       "    60% {\n",
       "      border-color: transparent;\n",
       "      border-right-color: var(--fill-color);\n",
       "    }\n",
       "    80% {\n",
       "      border-color: transparent;\n",
       "      border-right-color: var(--fill-color);\n",
       "      border-bottom-color: var(--fill-color);\n",
       "    }\n",
       "    90% {\n",
       "      border-color: transparent;\n",
       "      border-bottom-color: var(--fill-color);\n",
       "    }\n",
       "  }\n",
       "</style>\n",
       "\n",
       "  <script>\n",
       "    async function quickchart(key) {\n",
       "      const quickchartButtonEl =\n",
       "        document.querySelector('#' + key + ' button');\n",
       "      quickchartButtonEl.disabled = true;  // To prevent multiple clicks.\n",
       "      quickchartButtonEl.classList.add('colab-df-spinner');\n",
       "      try {\n",
       "        const charts = await google.colab.kernel.invokeFunction(\n",
       "            'suggestCharts', [key], {});\n",
       "      } catch (error) {\n",
       "        console.error('Error during call to suggestCharts:', error);\n",
       "      }\n",
       "      quickchartButtonEl.classList.remove('colab-df-spinner');\n",
       "      quickchartButtonEl.classList.add('colab-df-quickchart-complete');\n",
       "    }\n",
       "    (() => {\n",
       "      let quickchartButtonEl =\n",
       "        document.querySelector('#df-531b67b7-7295-446f-8dba-fe875f0c3e33 button');\n",
       "      quickchartButtonEl.style.display =\n",
       "        google.colab.kernel.accessAllowed ? 'block' : 'none';\n",
       "    })();\n",
       "  </script>\n",
       "</div>\n",
       "\n",
       "  <div id=\"id_e8bf53e1-3521-42a1-8df0-56b7b31fb65c\">\n",
       "    <style>\n",
       "      .colab-df-generate {\n",
       "        background-color: #E8F0FE;\n",
       "        border: none;\n",
       "        border-radius: 50%;\n",
       "        cursor: pointer;\n",
       "        display: none;\n",
       "        fill: #1967D2;\n",
       "        height: 32px;\n",
       "        padding: 0 0 0 0;\n",
       "        width: 32px;\n",
       "      }\n",
       "\n",
       "      .colab-df-generate:hover {\n",
       "        background-color: #E2EBFA;\n",
       "        box-shadow: 0px 1px 2px rgba(60, 64, 67, 0.3), 0px 1px 3px 1px rgba(60, 64, 67, 0.15);\n",
       "        fill: #174EA6;\n",
       "      }\n",
       "\n",
       "      [theme=dark] .colab-df-generate {\n",
       "        background-color: #3B4455;\n",
       "        fill: #D2E3FC;\n",
       "      }\n",
       "\n",
       "      [theme=dark] .colab-df-generate:hover {\n",
       "        background-color: #434B5C;\n",
       "        box-shadow: 0px 1px 3px 1px rgba(0, 0, 0, 0.15);\n",
       "        filter: drop-shadow(0px 1px 2px rgba(0, 0, 0, 0.3));\n",
       "        fill: #FFFFFF;\n",
       "      }\n",
       "    </style>\n",
       "    <button class=\"colab-df-generate\" onclick=\"generateWithVariable('df')\"\n",
       "            title=\"Generate code using this dataframe.\"\n",
       "            style=\"display:none;\">\n",
       "\n",
       "  <svg xmlns=\"http://www.w3.org/2000/svg\" height=\"24px\"viewBox=\"0 0 24 24\"\n",
       "       width=\"24px\">\n",
       "    <path d=\"M7,19H8.4L18.45,9,17,7.55,7,17.6ZM5,21V16.75L18.45,3.32a2,2,0,0,1,2.83,0l1.4,1.43a1.91,1.91,0,0,1,.58,1.4,1.91,1.91,0,0,1-.58,1.4L9.25,21ZM18.45,9,17,7.55Zm-12,3A5.31,5.31,0,0,0,4.9,8.1,5.31,5.31,0,0,0,1,6.5,5.31,5.31,0,0,0,4.9,4.9,5.31,5.31,0,0,0,6.5,1,5.31,5.31,0,0,0,8.1,4.9,5.31,5.31,0,0,0,12,6.5,5.46,5.46,0,0,0,6.5,12Z\"/>\n",
       "  </svg>\n",
       "    </button>\n",
       "    <script>\n",
       "      (() => {\n",
       "      const buttonEl =\n",
       "        document.querySelector('#id_e8bf53e1-3521-42a1-8df0-56b7b31fb65c button.colab-df-generate');\n",
       "      buttonEl.style.display =\n",
       "        google.colab.kernel.accessAllowed ? 'block' : 'none';\n",
       "\n",
       "      buttonEl.onclick = () => {\n",
       "        google.colab.notebook.generateWithVariable('df');\n",
       "      }\n",
       "      })();\n",
       "    </script>\n",
       "  </div>\n",
       "\n",
       "    </div>\n",
       "  </div>\n"
      ],
      "text/plain": [
       "    radial  belted\n",
       "0      4.2     4.1\n",
       "1      4.7     4.9\n",
       "2      6.6     6.2\n",
       "3      7.0     6.9\n",
       "4      6.7     6.8\n",
       "5      4.5     4.4\n",
       "6      5.7     5.7\n",
       "7      6.0     5.8\n",
       "8      7.4     6.9\n",
       "9      4.9     4.7\n",
       "10     6.1     6.0\n",
       "11     5.2     4.9\n",
       "12     4.9     6.3\n",
       "13     7.2     5.9\n",
       "14     5.5     4.2"
      ]
     },
     "execution_count": 78,
     "metadata": {},
     "output_type": "execute_result"
    }
   ],
   "source": [
    "rad = np.array([4.2, 4.7, 6.6, 7.0, 6.7, 4.5, 5.7, 6.0, 7.4, 4.9, 6.1, 5.2, 4.9, 7.2, 5.5])\n",
    "bel = np.array([4.1, 4.9, 6.2, 6.9, 6.8, 4.4, 5.7, 5.8, 6.9, 4.7, 6.0, 4.9, 6.3, 5.9, 4.2])\n",
    "\n",
    "df = pd.DataFrame({'radial': rad, 'belted': bel})\n",
    "df"
   ]
  },
  {
   "cell_type": "code",
   "execution_count": null,
   "metadata": {
    "colab": {
     "base_uri": "https://localhost:8080/",
     "height": 447
    },
    "id": "Uv111ZYE48eG",
    "outputId": "24aa9b30-579e-4ff6-cfca-ea9964fa44b5"
   },
   "outputs": [
    {
     "data": {
      "text/plain": [
       "<Axes: >"
      ]
     },
     "execution_count": 79,
     "metadata": {},
     "output_type": "execute_result"
    },
    {
     "data": {
      "image/png": "[encoded data removed]",
      "text/plain": [
       "<Figure size 640x480 with 1 Axes>"
      ]
     },
     "metadata": {},
     "output_type": "display_data"
    }
   ],
   "source": [
    "sns.boxplot(data=df)"
   ]
  },
  {
   "cell_type": "code",
   "execution_count": null,
   "metadata": {
    "colab": {
     "base_uri": "https://localhost:8080/"
    },
    "id": "8kOKtiuS5Cfz",
    "outputId": "4ea84d48-90a4-4346-81e5-e3e9ebad333c"
   },
   "outputs": [
    {
     "data": {
      "text/plain": [
       "TtestResult(statistic=-0.5250458498670928, pvalue=0.60368432629286, df=28.0)"
      ]
     },
     "execution_count": 84,
     "metadata": {},
     "output_type": "execute_result"
    }
   ],
   "source": [
    "sc.stats.ttest_ind(bel, rad)"
   ]
  },
  {
   "cell_type": "code",
   "execution_count": null,
   "metadata": {
    "id": "Kze94SoR6OCz"
   },
   "outputs": [],
   "source": [
    "def two_sample_unpaired_unequal_variance_test(S1,S2, alpha=0.05,direction='+'):  # Here it is not known if the population variance of both the samples is same or different.\n",
    "    x1_bar = sum(S1)/len(S2)\n",
    "    x2_bar = sum(S2)/len(S2)\n",
    "\n",
    "    var_1 = sum([(x-x1_bar)**2 for x in S1])/(len(S1)-1)\n",
    "    var_2 = sum([(x-x2_bar)**2 for x in S2])/(len(S2)-1)\n",
    "\n",
    "    se = np.sqrt(var_1**2/len(S1) + var_2**2/len(S2))\n",
    "\n",
    "    df = (var_1/len(S1) + var_2/len(S2))**2/((var_1/len(S1))**2/(len(S1)+1) + (var_2/len(S2))**2/(len(S2)+1)) -2 # Welch-Satterwaite Equation\n",
    "    obs_t =(x1_bar -x2_bar)/se\n",
    "\n",
    "    p_val = 1-sc.stats.t.cdf(obs_t, df)\n",
    "\n",
    "    if direction == '+-':\n",
    "        alpha = alpha/2\n",
    "    elif direction == '-':\n",
    "        alpha = 1 - alpha\n",
    "    elif direction == '+':\n",
    "        pass\n",
    "\n",
    "    if p_val < alpha:\n",
    "        print(f'Null Hypotheses Rejected: The given two samples differ greatly in the mean')\n",
    "    else:\n",
    "        print(f'Null Hypotheses Accepted: The given two samples have nearly same mean')"
   ]
  },
  {
   "cell_type": "code",
   "execution_count": null,
   "metadata": {
    "colab": {
     "base_uri": "https://localhost:8080/"
    },
    "id": "tZZge-Jr6SRw",
    "outputId": "44f5bdd0-62f3-4da3-8c83-493a7346b9c1"
   },
   "outputs": [
    {
     "name": "stdout",
     "output_type": "stream",
     "text": [
      "Null Hypotheses Accepted: The given two samples have nearly same mean\n"
     ]
    }
   ],
   "source": [
    "two_sample_unpaired_unequal_variance_test(rad, bel)"
   ]
  },
  {
   "cell_type": "markdown",
   "metadata": {
    "id": "07JT4xbm6sGF"
   },
   "source": [
    "# Salary vs. Position Level: Regression Analysis\n",
    "\n",
    "## Given Dataset\n",
    "\n",
    "Consider the following dataset on employee salaries across different positions:\n",
    "\n",
    "| Position            | Position Level | Salary  |\n",
    "|---------------------|---------------|---------|\n",
    "| Office Attendant   | 1             | 20000   |\n",
    "| Data Entry         | 2             | 30000   |\n",
    "| Business Analyst   | 3             | 45000   |\n",
    "| Junior Consultant  | 4             | 50000   |\n",
    "| Senior Consultant  | 5             | 60000   |\n",
    "| Manager           | 6             | 80000   |\n",
    "| Country Manager    | 7             | 110000  |\n",
    "| Region Manager     | 8             | 150000  |\n",
    "| Partner           | 9             | 200000  |\n",
    "| Senior Partner     | 10            | 300000  |\n",
    "| C-level            | 11            | 500000  |\n",
    "| CEO                | 12            | 1000000 |\n",
    "\n",
    "## Tasks\n",
    "\n",
    "### (a) Create a **Pandas DataFrame** for the above dataset.\n",
    "\n",
    "### (b) Plot a **scatter plot** of **Salary vs. Position Level** to visualize the trend.\n",
    "\n",
    "### (c) Perform **Linear Regression Analysis**  \n",
    "- Use the step-by-step method to fit a **linear regression model**:  \n",
    "  - Compute the regression coefficients **$b_0$ (intercept) and $b_1$ (slope)**.  \n",
    "  - Calculate the **$R^2$ (coefficient of determination)** to measure the goodness of fit.  \n",
    "  - Interpret how well the linear model fits the data.  \n",
    "- **Verify the results using** `sklearn.linear_model.LinearRegression`.  \n",
    "\n",
    "### (d) Perform **Quadratic Regression Analysis**  \n",
    "- Fit a **quadratic regression model** using step-by-step calculations.  \n",
    "- Compute the **$R^2$** value to evaluate the fit.  \n",
    "- Compare the results with **`sklearn.linear_model.LinearRegression`** for verification.  \n",
    "\n",
    "### (e) Explore **Cubic and 4th-degree Polynomial Regression**  \n",
    "- Fit cubic and **4th-degree polynomial regression models**.  \n",
    "- Analyze how **$R^2$ changes** as we increase the polynomial degree.  \n",
    "- Compare the results using `sklearn.LinearRegression` to understand the impact of higher-degree polynomials on the fit.  \n"
   ]
  },
  {
   "cell_type": "code",
   "execution_count": null,
   "metadata": {
    "colab": {
     "base_uri": "https://localhost:8080/",
     "height": 425
    },
    "id": "XQ3qsgVP6lrR",
    "outputId": "b071fcaa-e30d-4a47-ade7-586abee51139"
   },
   "outputs": [
    {
     "data": {
      "application/vnd.google.colaboratory.intrinsic+json": {
       "summary": "{\n  \"name\": \"ds\",\n  \"rows\": 12,\n  \"fields\": [\n    {\n      \"column\": \"Position\",\n      \"properties\": {\n        \"dtype\": \"string\",\n        \"num_unique_values\": 12,\n        \"samples\": [\n          \"C-level\",\n          \"Sr Partner\",\n          \"Office Attendant\"\n        ],\n        \"semantic_type\": \"\",\n        \"description\": \"\"\n      }\n    },\n    {\n      \"column\": \"Position Level\",\n      \"properties\": {\n        \"dtype\": \"number\",\n        \"std\": 3,\n        \"min\": 1,\n        \"max\": 12,\n        \"num_unique_values\": 12,\n        \"samples\": [\n          11,\n          10,\n          1\n        ],\n        \"semantic_type\": \"\",\n        \"description\": \"\"\n      }\n    },\n    {\n      \"column\": \"Pay\",\n      \"properties\": {\n        \"dtype\": \"number\",\n        \"std\": 284552,\n        \"min\": 20000,\n        \"max\": 1000000,\n        \"num_unique_values\": 12,\n        \"samples\": [\n          500000,\n          300000,\n          20000\n        ],\n        \"semantic_type\": \"\",\n        \"description\": \"\"\n      }\n    }\n  ]\n}",
       "type": "dataframe",
       "variable_name": "ds"
      },
      "text/html": [
       "\n",
       "  <div id=\"df-e07b760a-259b-482e-ac6f-de7265f037fa\" class=\"colab-df-container\">\n",
       "    <div>\n",
       "<style scoped>\n",
       "    .dataframe tbody tr th:only-of-type {\n",
       "        vertical-align: middle;\n",
       "    }\n",
       "\n",
       "    .dataframe tbody tr th {\n",
       "        vertical-align: top;\n",
       "    }\n",
       "\n",
       "    .dataframe thead th {\n",
       "        text-align: right;\n",
       "    }\n",
       "</style>\n",
       "<table border=\"1\" class=\"dataframe\">\n",
       "  <thead>\n",
       "    <tr style=\"text-align: right;\">\n",
       "      <th></th>\n",
       "      <th>Position</th>\n",
       "      <th>Position Level</th>\n",
       "      <th>Pay</th>\n",
       "    </tr>\n",
       "  </thead>\n",
       "  <tbody>\n",
       "    <tr>\n",
       "      <th>0</th>\n",
       "      <td>Office Attendant</td>\n",
       "      <td>1</td>\n",
       "      <td>20000</td>\n",
       "    </tr>\n",
       "    <tr>\n",
       "      <th>1</th>\n",
       "      <td>DataEntry</td>\n",
       "      <td>2</td>\n",
       "      <td>30000</td>\n",
       "    </tr>\n",
       "    <tr>\n",
       "      <th>2</th>\n",
       "      <td>Business Analyst</td>\n",
       "      <td>3</td>\n",
       "      <td>45000</td>\n",
       "    </tr>\n",
       "    <tr>\n",
       "      <th>3</th>\n",
       "      <td>Jr Consultant</td>\n",
       "      <td>4</td>\n",
       "      <td>50000</td>\n",
       "    </tr>\n",
       "    <tr>\n",
       "      <th>4</th>\n",
       "      <td>Sr Consultant</td>\n",
       "      <td>5</td>\n",
       "      <td>60000</td>\n",
       "    </tr>\n",
       "    <tr>\n",
       "      <th>5</th>\n",
       "      <td>Manager</td>\n",
       "      <td>6</td>\n",
       "      <td>80000</td>\n",
       "    </tr>\n",
       "    <tr>\n",
       "      <th>6</th>\n",
       "      <td>Con Manger</td>\n",
       "      <td>7</td>\n",
       "      <td>110000</td>\n",
       "    </tr>\n",
       "    <tr>\n",
       "      <th>7</th>\n",
       "      <td>Reg Manager</td>\n",
       "      <td>8</td>\n",
       "      <td>150000</td>\n",
       "    </tr>\n",
       "    <tr>\n",
       "      <th>8</th>\n",
       "      <td>Partner</td>\n",
       "      <td>9</td>\n",
       "      <td>200000</td>\n",
       "    </tr>\n",
       "    <tr>\n",
       "      <th>9</th>\n",
       "      <td>Sr Partner</td>\n",
       "      <td>10</td>\n",
       "      <td>300000</td>\n",
       "    </tr>\n",
       "    <tr>\n",
       "      <th>10</th>\n",
       "      <td>C-level</td>\n",
       "      <td>11</td>\n",
       "      <td>500000</td>\n",
       "    </tr>\n",
       "    <tr>\n",
       "      <th>11</th>\n",
       "      <td>CEO</td>\n",
       "      <td>12</td>\n",
       "      <td>1000000</td>\n",
       "    </tr>\n",
       "  </tbody>\n",
       "</table>\n",
       "</div>\n",
       "    <div class=\"colab-df-buttons\">\n",
       "\n",
       "  <div class=\"colab-df-container\">\n",
       "    <button class=\"colab-df-convert\" onclick=\"convertToInteractive('df-e07b760a-259b-482e-ac6f-de7265f037fa')\"\n",
       "            title=\"Convert this dataframe to an interactive table.\"\n",
       "            style=\"display:none;\">\n",
       "\n",
       "  <svg xmlns=\"http://www.w3.org/2000/svg\" height=\"24px\" viewBox=\"0 -960 960 960\">\n",
       "    <path d=\"M120-120v-720h720v720H120Zm60-500h600v-160H180v160Zm220 220h160v-160H400v160Zm0 220h160v-160H400v160ZM180-400h160v-160H180v160Zm440 0h160v-160H620v160ZM180-180h160v-160H180v160Zm440 0h160v-160H620v160Z\"/>\n",
       "  </svg>\n",
       "    </button>\n",
       "\n",
       "  <style>\n",
       "    .colab-df-container {\n",
       "      display:flex;\n",
       "      gap: 12px;\n",
       "    }\n",
       "\n",
       "    .colab-df-convert {\n",
       "      background-color: #E8F0FE;\n",
       "      border: none;\n",
       "      border-radius: 50%;\n",
       "      cursor: pointer;\n",
       "      display: none;\n",
       "      fill: #1967D2;\n",
       "      height: 32px;\n",
       "      padding: 0 0 0 0;\n",
       "      width: 32px;\n",
       "    }\n",
       "\n",
       "    .colab-df-convert:hover {\n",
       "      background-color: #E2EBFA;\n",
       "      box-shadow: 0px 1px 2px rgba(60, 64, 67, 0.3), 0px 1px 3px 1px rgba(60, 64, 67, 0.15);\n",
       "      fill: #174EA6;\n",
       "    }\n",
       "\n",
       "    .colab-df-buttons div {\n",
       "      margin-bottom: 4px;\n",
       "    }\n",
       "\n",
       "    [theme=dark] .colab-df-convert {\n",
       "      background-color: #3B4455;\n",
       "      fill: #D2E3FC;\n",
       "    }\n",
       "\n",
       "    [theme=dark] .colab-df-convert:hover {\n",
       "      background-color: #434B5C;\n",
       "      box-shadow: 0px 1px 3px 1px rgba(0, 0, 0, 0.15);\n",
       "      filter: drop-shadow(0px 1px 2px rgba(0, 0, 0, 0.3));\n",
       "      fill: #FFFFFF;\n",
       "    }\n",
       "  </style>\n",
       "\n",
       "    <script>\n",
       "      const buttonEl =\n",
       "        document.querySelector('#df-e07b760a-259b-482e-ac6f-de7265f037fa button.colab-df-convert');\n",
       "      buttonEl.style.display =\n",
       "        google.colab.kernel.accessAllowed ? 'block' : 'none';\n",
       "\n",
       "      async function convertToInteractive(key) {\n",
       "        const element = document.querySelector('#df-e07b760a-259b-482e-ac6f-de7265f037fa');\n",
       "        const dataTable =\n",
       "          await google.colab.kernel.invokeFunction('convertToInteractive',\n",
       "                                                    [key], {});\n",
       "        if (!dataTable) return;\n",
       "\n",
       "        const docLinkHtml = 'Like what you see? Visit the ' +\n",
       "          '<a target=\"_blank\" href=https://colab.research.google.com/notebooks/data_table.ipynb>data table notebook</a>'\n",
       "          + ' to learn more about interactive tables.';\n",
       "        element.innerHTML = '';\n",
       "        dataTable['output_type'] = 'display_data';\n",
       "        await google.colab.output.renderOutput(dataTable, element);\n",
       "        const docLink = document.createElement('div');\n",
       "        docLink.innerHTML = docLinkHtml;\n",
       "        element.appendChild(docLink);\n",
       "      }\n",
       "    </script>\n",
       "  </div>\n",
       "\n",
       "\n",
       "<div id=\"df-348b71a2-b596-4ae3-b7c4-60a808ac345a\">\n",
       "  <button class=\"colab-df-quickchart\" onclick=\"quickchart('df-348b71a2-b596-4ae3-b7c4-60a808ac345a')\"\n",
       "            title=\"Suggest charts\"\n",
       "            style=\"display:none;\">\n",
       "\n",
       "<svg xmlns=\"http://www.w3.org/2000/svg\" height=\"24px\"viewBox=\"0 0 24 24\"\n",
       "     width=\"24px\">\n",
       "    <g>\n",
       "        <path d=\"M19 3H5c-1.1 0-2 .9-2 2v14c0 1.1.9 2 2 2h14c1.1 0 2-.9 2-2V5c0-1.1-.9-2-2-2zM9 17H7v-7h2v7zm4 0h-2V7h2v10zm4 0h-2v-4h2v4z\"/>\n",
       "    </g>\n",
       "</svg>\n",
       "  </button>\n",
       "\n",
       "<style>\n",
       "  .colab-df-quickchart {\n",
       "      --bg-color: #E8F0FE;\n",
       "      --fill-color: #1967D2;\n",
       "      --hover-bg-color: #E2EBFA;\n",
       "      --hover-fill-color: #174EA6;\n",
       "      --disabled-fill-color: #AAA;\n",
       "      --disabled-bg-color: #DDD;\n",
       "  }\n",
       "\n",
       "  [theme=dark] .colab-df-quickchart {\n",
       "      --bg-color: #3B4455;\n",
       "      --fill-color: #D2E3FC;\n",
       "      --hover-bg-color: #434B5C;\n",
       "      --hover-fill-color: #FFFFFF;\n",
       "      --disabled-bg-color: #3B4455;\n",
       "      --disabled-fill-color: #666;\n",
       "  }\n",
       "\n",
       "  .colab-df-quickchart {\n",
       "    background-color: var(--bg-color);\n",
       "    border: none;\n",
       "    border-radius: 50%;\n",
       "    cursor: pointer;\n",
       "    display: none;\n",
       "    fill: var(--fill-color);\n",
       "    height: 32px;\n",
       "    padding: 0;\n",
       "    width: 32px;\n",
       "  }\n",
       "\n",
       "  .colab-df-quickchart:hover {\n",
       "    background-color: var(--hover-bg-color);\n",
       "    box-shadow: 0 1px 2px rgba(60, 64, 67, 0.3), 0 1px 3px 1px rgba(60, 64, 67, 0.15);\n",
       "    fill: var(--button-hover-fill-color);\n",
       "  }\n",
       "\n",
       "  .colab-df-quickchart-complete:disabled,\n",
       "  .colab-df-quickchart-complete:disabled:hover {\n",
       "    background-color: var(--disabled-bg-color);\n",
       "    fill: var(--disabled-fill-color);\n",
       "    box-shadow: none;\n",
       "  }\n",
       "\n",
       "  .colab-df-spinner {\n",
       "    border: 2px solid var(--fill-color);\n",
       "    border-color: transparent;\n",
       "    border-bottom-color: var(--fill-color);\n",
       "    animation:\n",
       "      spin 1s steps(1) infinite;\n",
       "  }\n",
       "\n",
       "  @keyframes spin {\n",
       "    0% {\n",
       "      border-color: transparent;\n",
       "      border-bottom-color: var(--fill-color);\n",
       "      border-left-color: var(--fill-color);\n",
       "    }\n",
       "    20% {\n",
       "      border-color: transparent;\n",
       "      border-left-color: var(--fill-color);\n",
       "      border-top-color: var(--fill-color);\n",
       "    }\n",
       "    30% {\n",
       "      border-color: transparent;\n",
       "      border-left-color: var(--fill-color);\n",
       "      border-top-color: var(--fill-color);\n",
       "      border-right-color: var(--fill-color);\n",
       "    }\n",
       "    40% {\n",
       "      border-color: transparent;\n",
       "      border-right-color: var(--fill-color);\n",
       "      border-top-color: var(--fill-color);\n",
       "    }\n",
       "    60% {\n",
       "      border-color: transparent;\n",
       "      border-right-color: var(--fill-color);\n",
       "    }\n",
       "    80% {\n",
       "      border-color: transparent;\n",
       "      border-right-color: var(--fill-color);\n",
       "      border-bottom-color: var(--fill-color);\n",
       "    }\n",
       "    90% {\n",
       "      border-color: transparent;\n",
       "      border-bottom-color: var(--fill-color);\n",
       "    }\n",
       "  }\n",
       "</style>\n",
       "\n",
       "  <script>\n",
       "    async function quickchart(key) {\n",
       "      const quickchartButtonEl =\n",
       "        document.querySelector('#' + key + ' button');\n",
       "      quickchartButtonEl.disabled = true;  // To prevent multiple clicks.\n",
       "      quickchartButtonEl.classList.add('colab-df-spinner');\n",
       "      try {\n",
       "        const charts = await google.colab.kernel.invokeFunction(\n",
       "            'suggestCharts', [key], {});\n",
       "      } catch (error) {\n",
       "        console.error('Error during call to suggestCharts:', error);\n",
       "      }\n",
       "      quickchartButtonEl.classList.remove('colab-df-spinner');\n",
       "      quickchartButtonEl.classList.add('colab-df-quickchart-complete');\n",
       "    }\n",
       "    (() => {\n",
       "      let quickchartButtonEl =\n",
       "        document.querySelector('#df-348b71a2-b596-4ae3-b7c4-60a808ac345a button');\n",
       "      quickchartButtonEl.style.display =\n",
       "        google.colab.kernel.accessAllowed ? 'block' : 'none';\n",
       "    })();\n",
       "  </script>\n",
       "</div>\n",
       "\n",
       "  <div id=\"id_39c3863c-cc49-406a-9dcf-51c2623122b5\">\n",
       "    <style>\n",
       "      .colab-df-generate {\n",
       "        background-color: #E8F0FE;\n",
       "        border: none;\n",
       "        border-radius: 50%;\n",
       "        cursor: pointer;\n",
       "        display: none;\n",
       "        fill: #1967D2;\n",
       "        height: 32px;\n",
       "        padding: 0 0 0 0;\n",
       "        width: 32px;\n",
       "      }\n",
       "\n",
       "      .colab-df-generate:hover {\n",
       "        background-color: #E2EBFA;\n",
       "        box-shadow: 0px 1px 2px rgba(60, 64, 67, 0.3), 0px 1px 3px 1px rgba(60, 64, 67, 0.15);\n",
       "        fill: #174EA6;\n",
       "      }\n",
       "\n",
       "      [theme=dark] .colab-df-generate {\n",
       "        background-color: #3B4455;\n",
       "        fill: #D2E3FC;\n",
       "      }\n",
       "\n",
       "      [theme=dark] .colab-df-generate:hover {\n",
       "        background-color: #434B5C;\n",
       "        box-shadow: 0px 1px 3px 1px rgba(0, 0, 0, 0.15);\n",
       "        filter: drop-shadow(0px 1px 2px rgba(0, 0, 0, 0.3));\n",
       "        fill: #FFFFFF;\n",
       "      }\n",
       "    </style>\n",
       "    <button class=\"colab-df-generate\" onclick=\"generateWithVariable('ds')\"\n",
       "            title=\"Generate code using this dataframe.\"\n",
       "            style=\"display:none;\">\n",
       "\n",
       "  <svg xmlns=\"http://www.w3.org/2000/svg\" height=\"24px\"viewBox=\"0 0 24 24\"\n",
       "       width=\"24px\">\n",
       "    <path d=\"M7,19H8.4L18.45,9,17,7.55,7,17.6ZM5,21V16.75L18.45,3.32a2,2,0,0,1,2.83,0l1.4,1.43a1.91,1.91,0,0,1,.58,1.4,1.91,1.91,0,0,1-.58,1.4L9.25,21ZM18.45,9,17,7.55Zm-12,3A5.31,5.31,0,0,0,4.9,8.1,5.31,5.31,0,0,0,1,6.5,5.31,5.31,0,0,0,4.9,4.9,5.31,5.31,0,0,0,6.5,1,5.31,5.31,0,0,0,8.1,4.9,5.31,5.31,0,0,0,12,6.5,5.46,5.46,0,0,0,6.5,12Z\"/>\n",
       "  </svg>\n",
       "    </button>\n",
       "    <script>\n",
       "      (() => {\n",
       "      const buttonEl =\n",
       "        document.querySelector('#id_39c3863c-cc49-406a-9dcf-51c2623122b5 button.colab-df-generate');\n",
       "      buttonEl.style.display =\n",
       "        google.colab.kernel.accessAllowed ? 'block' : 'none';\n",
       "\n",
       "      buttonEl.onclick = () => {\n",
       "        google.colab.notebook.generateWithVariable('ds');\n",
       "      }\n",
       "      })();\n",
       "    </script>\n",
       "  </div>\n",
       "\n",
       "    </div>\n",
       "  </div>\n"
      ],
      "text/plain": [
       "            Position  Position Level      Pay\n",
       "0   Office Attendant               1    20000\n",
       "1          DataEntry               2    30000\n",
       "2   Business Analyst               3    45000\n",
       "3      Jr Consultant               4    50000\n",
       "4      Sr Consultant               5    60000\n",
       "5            Manager               6    80000\n",
       "6         Con Manger               7   110000\n",
       "7        Reg Manager               8   150000\n",
       "8            Partner               9   200000\n",
       "9         Sr Partner              10   300000\n",
       "10           C-level              11   500000\n",
       "11               CEO              12  1000000"
      ]
     },
     "execution_count": 106,
     "metadata": {},
     "output_type": "execute_result"
    }
   ],
   "source": [
    "pos = np.array(['Office Attendant', 'DataEntry','Business Analyst', 'Jr Consultant', 'Sr Consultant', 'Manager', 'Con Manger', 'Reg Manager', 'Partner', 'Sr Partner', 'C-level', 'CEO' ])\n",
    "poslvl = np.array([1,2,3,4,5,6,7,8,9,10,11,12])\n",
    "pay = np.array([20000,30000,45000,50000,60000,80000,110000,150000,200000,300000,500000,1000000])\n",
    "ds = pd.DataFrame({'Position': pos, 'Position Level': poslvl, 'Pay': pay})\n",
    "ds"
   ]
  },
  {
   "cell_type": "code",
   "execution_count": null,
   "metadata": {
    "colab": {
     "base_uri": "https://localhost:8080/",
     "height": 482
    },
    "id": "KSuPZ6Za7zuy",
    "outputId": "97cd9ce6-38a1-4819-be18-111265884c56"
   },
   "outputs": [
    {
     "data": {
      "text/plain": [
       "<Axes: xlabel='Position Level', ylabel='Pay'>"
      ]
     },
     "execution_count": 91,
     "metadata": {},
     "output_type": "execute_result"
    },
    {
     "data": {
      "image/png": "[encoded data removed]",
      "text/plain": [
       "<Figure size 640x480 with 1 Axes>"
      ]
     },
     "metadata": {},
     "output_type": "display_data"
    }
   ],
   "source": [
    "sns.scatterplot(data=ds, x='Position Level', y='Pay')"
   ]
  },
  {
   "cell_type": "code",
   "execution_count": null,
   "metadata": {
    "colab": {
     "base_uri": "https://localhost:8080/",
     "height": 465
    },
    "id": "lLK5URSBCDoE",
    "outputId": "97cb6bc7-1045-4a11-fc47-de7fe8ff8e7c"
   },
   "outputs": [
    {
     "data": {
      "image/png": "[encoded data removed]",
      "text/plain": [
       "<Figure size 640x480 with 1 Axes>"
      ]
     },
     "metadata": {},
     "output_type": "display_data"
    }
   ],
   "source": [
    "sns.regplot(data=ds, x='Position Level', y='Pay')\n",
    "X = np.array([[1]*len(ds['Position Level']),list(ds['Position Level'])]).T\n",
    "Y = np.array([ds['Pay']]).T"
   ]
  },
  {
   "cell_type": "code",
   "execution_count": null,
   "metadata": {
    "colab": {
     "base_uri": "https://localhost:8080/"
    },
    "id": "dyHGxr_x743d",
    "outputId": "dd28b625-6c4b-493b-fe57-b06232404a16"
   },
   "outputs": [
    {
     "data": {
      "text/plain": [
       "array([[-193484.84848485],\n",
       "       [  62395.1048951 ]])"
      ]
     },
     "execution_count": 133,
     "metadata": {},
     "output_type": "execute_result"
    }
   ],
   "source": [
    "X,Y, X.T , X.T@X, X.T@Y\n",
    "b = np.linalg.inv(X.T@X)@X.T@Y\n",
    "b"
   ]
  },
  {
   "cell_type": "code",
   "execution_count": null,
   "metadata": {
    "colab": {
     "base_uri": "https://localhost:8080/",
     "height": 465
    },
    "id": "nIbBQbT_AOMI",
    "outputId": "de9adea9-6998-485c-915e-22c213dcb9f0"
   },
   "outputs": [
    {
     "data": {
      "image/png": "[encoded data removed]",
      "text/plain": [
       "<Figure size 640x480 with 1 Axes>"
      ]
     },
     "metadata": {},
     "output_type": "display_data"
    }
   ],
   "source": [
    "sns.regplot(data=ds, x='Position Level', y='Pay',order = 2)\n",
    "X = np.array([[1]*len(ds['Position Level']),list(ds['Position Level']),list(ds['Position Level']**2)]).T\n",
    "Y = np.array([ds['Pay']]).T"
   ]
  },
  {
   "cell_type": "code",
   "execution_count": null,
   "metadata": {
    "colab": {
     "base_uri": "https://localhost:8080/"
    },
    "id": "zsDyS9_EFPbP",
    "outputId": "e5233666-c3f9-4e20-f5bf-c0b6b2e5a47f"
   },
   "outputs": [
    {
     "data": {
      "text/plain": [
       "array([[ 205795.45454545],\n",
       "       [-108725.02497502],\n",
       "       [  13163.08691309]])"
      ]
     },
     "execution_count": 141,
     "metadata": {},
     "output_type": "execute_result"
    }
   ],
   "source": [
    "X,Y, X.T , X.T@X, X.T@Y\n",
    "b = np.linalg.inv(X.T@X)@X.T@Y\n",
    "b"
   ]
  },
  {
   "cell_type": "code",
   "execution_count": null,
   "metadata": {
    "colab": {
     "base_uri": "https://localhost:8080/",
     "height": 534
    },
    "id": "-KmrHW48GTRX",
    "outputId": "542c4a27-5abe-4706-cf03-93821e1f1211"
   },
   "outputs": [
    {
     "data": {
      "text/plain": [
       "array([[-146060.60606064],\n",
       "       [ 163222.33322236],\n",
       "       [ -37102.06460207],\n",
       "       [   2577.7000777 ]])"
      ]
     },
     "execution_count": 143,
     "metadata": {},
     "output_type": "execute_result"
    },
    {
     "data": {
      "image/png": "[encoded data removed]",
      "text/plain": [
       "<Figure size 640x480 with 1 Axes>"
      ]
     },
     "metadata": {},
     "output_type": "display_data"
    }
   ],
   "source": [
    "sns.regplot(data=ds, x='Position Level', y='Pay',order = 3)\n",
    "X = np.array([[1]*len(ds['Position Level']),list(ds['Position Level']),list(ds['Position Level']**2),list(ds['Position Level']**3)]).T\n",
    "Y = np.array([ds['Pay']]).T\n",
    "X,Y, X.T , X.T@X, X.T@Y\n",
    "b = np.linalg.inv(X.T@X)@X.T@Y\n",
    "b"
   ]
  },
  {
   "cell_type": "code",
   "execution_count": null,
   "metadata": {
    "colab": {
     "base_uri": "https://localhost:8080/",
     "height": 606
    },
    "id": "ll64vO2lF_rg",
    "outputId": "6f121fed-1d02-4651-ae7d-2a49fda36f83"
   },
   "outputs": [
    {
     "name": "stderr",
     "output_type": "stream",
     "text": [
      "/usr/local/lib/python3.11/dist-packages/seaborn/regression.py:261: RankWarning: Polyfit may be poorly conditioned\n",
      "  return np.polyval(np.polyfit(_x, _y, order), grid)\n"
     ]
    },
    {
     "data": {
      "text/plain": [
       "array([[ 139280.30303345],\n",
       "       [-161183.10508867],\n",
       "       [  65132.02942845],\n",
       "       [  -9311.5044677 ],\n",
       "       [    457.2770979 ]])"
      ]
     },
     "execution_count": 142,
     "metadata": {},
     "output_type": "execute_result"
    },
    {
     "data": {
      "image/png": "[encoded data removed]",
      "text/plain": [
       "<Figure size 640x480 with 1 Axes>"
      ]
     },
     "metadata": {},
     "output_type": "display_data"
    }
   ],
   "source": [
    "sns.regplot(data=ds, x='Position Level', y='Pay',order = 4)\n",
    "X = np.array([[1]*len(ds['Position Level']),list(ds['Position Level']),list(ds['Position Level']**2),list(ds['Position Level']**3),list(ds['Position Level']**4)]).T\n",
    "Y = np.array([ds['Pay']]).T\n",
    "X,Y, X.T , X.T@X, X.T@Y\n",
    "b = np.linalg.inv(X.T@X)@X.T@Y\n",
    "b"
   ]
  },
  {
   "cell_type": "code",
   "execution_count": null,
   "metadata": {
    "id": "iZ9TWZnvGicP"
   },
   "outputs": [],
   "source": []
  },
  {
   "cell_type": "markdown",
   "metadata": {
    "id": "apeccHt4YfGq"
   },
   "source": [
    "# One-Way ANOVA: Effect of Catalysts on Concentration\n",
    "\n",
    "## Given Data\n",
    "\n",
    "The experiment investigates four catalysts that may affect the concentration of one component in a **three-component liquid mixture**. The recorded concentrations for each catalyst are:\n",
    "\n",
    "| Catalyst | Concentration |\n",
    "|----------|--------------|\n",
    "| **1**    | 58.2        |\n",
    "|          | 57.2        |\n",
    "|          | 58.4        |\n",
    "|          | 55.8        |\n",
    "| **2**    | 56.3        |\n",
    "|          | 54.5        |\n",
    "|          | 57.0        |\n",
    "|          | 55.3        |\n",
    "| **3**    | 50.1        |\n",
    "|          | 54.2        |\n",
    "|          | 55.4        |\n",
    "|          | 51.7        |\n",
    "| **4**    | 52.9        |\n",
    "|          | 49.9        |\n",
    "|          | 50.0        |\n",
    "|          | 54.9        |\n",
    "\n",
    "## Tasks\n",
    "\n",
    "### (a) Prepare the data using a **Pandas DataFrame** for a One-Way ANOVA test.\n",
    "\n",
    "### (b) Create a **box plot** of concentrations for each catalyst to visually assess potential differences.\n",
    "\n",
    "### (c) Perform a **One-Way ANOVA test** step-by-step  \n",
    "- **Null Hypothesis ($H_0$):** All four catalysts have the same effect on concentration.  \n",
    "- **Alternative Hypothesis ($H_a$):** At least one catalyst affects the concentration differently.  \n",
    "- **Compute the ANOVA table:**  \n",
    "  - Calculate **group means, overall mean, sum of squares, degrees of freedom, mean squares, and F-statistic**.  \n",
    "  - Perform the test at **$\\alpha = 0.05$** and **$\\alpha = 0.01$**.  \n",
    "  - Compare conclusions based on both **p-value** and **F-statistic**.\n",
    "\n",
    "### (d) Verify the results using **`statsmodels.api`** package in Python.\n"
   ]
  },
  {
   "cell_type": "code",
   "execution_count": 2,
   "metadata": {
    "id": "WOYXoV-OYgm_"
   },
   "outputs": [],
   "source": [
    "c = [1]*5 + [2]*4 + [3]*3 + [4]*4\n",
    "r = [58.2, 57.2, 58.4, 55.8, 54.9, 56.3, 54.5, 57.0, 55.3, 50.1, 54.2, 55.4, 52.9, 49.9, 50.0, 51.7]\n",
    "df = pd.DataFrame({'C': c, 'R': r})"
   ]
  },
  {
   "cell_type": "code",
   "execution_count": 4,
   "metadata": {
    "colab": {
     "base_uri": "https://localhost:8080/",
     "height": 528
    },
    "id": "Z6byipjrYpIB",
    "outputId": "e344dc47-e093-4199-bd21-ac2422eb1ad1"
   },
   "outputs": [
    {
     "name": "stderr",
     "output_type": "stream",
     "text": [
      "<ipython-input-4-69ba4afb90a8>:1: MatplotlibDeprecationWarning: The 'labels' parameter of boxplot() has been renamed 'tick_labels' since Matplotlib 3.9; support for the old name will be dropped in 3.11.\n",
      "  plt.boxplot([df[df.C == i]['R'] for i in range(1, 5)], labels=[1, 2, 3, 4])\n"
     ]
    },
    {
     "data": {
      "image/png": "[encoded data removed]",
      "text/plain": [
       "<Figure size 640x480 with 1 Axes>"
      ]
     },
     "metadata": {},
     "output_type": "display_data"
    }
   ],
   "source": [
    "plt.boxplot([df[df.C == i]['R'] for i in range(1, 5)], labels=[1, 2, 3, 4])\n",
    "plt.xlabel('Catalyst')\n",
    "plt.ylabel('Concentration')\n",
    "plt.title('Box Plot of Concentration by Catalyst')\n",
    "plt.show()"
   ]
  },
  {
   "cell_type": "code",
   "execution_count": 5,
   "metadata": {
    "id": "JtSnHmiLYkbu"
   },
   "outputs": [],
   "source": [
    "k, N = len(df.C.unique()), len(df.R)\n",
    "df_T, df_Tr, df_E = N-1, k-1, N-k\n",
    "gm = df.R.mean()\n",
    "SST = sum((df.R - gm) ** 2)\n",
    "SSTr = sum([(df[df.C == i].R.mean() - gm) ** 2 for i in df.C])\n",
    "SSE = SST - SSTr\n",
    "MSTr, MSE = SSTr / df_Tr, SSE / df_E\n",
    "F_stat, p_val = MSTr / MSE, scst.f.sf(MSTr / MSE, df_Tr, df_E)"
   ]
  },
  {
   "cell_type": "code",
   "execution_count": 6,
   "metadata": {
    "colab": {
     "base_uri": "https://localhost:8080/"
    },
    "id": "mEMWArtzYkWg",
    "outputId": "31be60e6-dd63-42d6-8acf-c1b5d6a40e63"
   },
   "outputs": [
    {
     "name": "stdout",
     "output_type": "stream",
     "text": [
      "           df          SS         MS         F   P-Value\n",
      "Treatment   3   85.675833  28.558611  9.915706  0.001436\n",
      "Error      12   34.561667   2.880139                    \n",
      "Total      15  120.237500                               \n"
     ]
    }
   ],
   "source": [
    "anova_tbl = pd.DataFrame({'df': [df_Tr, df_E, df_T], 'SS': [SSTr, SSE, SST],\n",
    "                           'MS': [MSTr, MSE, ''], 'F': [F_stat, '', ''],\n",
    "                           'P-Value': [p_val, '', '']},\n",
    "                          index=['Treatment', 'Error', 'Total'])\n",
    "print(anova_tbl)"
   ]
  },
  {
   "cell_type": "code",
   "execution_count": 7,
   "metadata": {
    "colab": {
     "base_uri": "https://localhost:8080/"
    },
    "id": "DuhMlZT3YkTq",
    "outputId": "383e8926-cbbd-4c19-d918-0562a829d164"
   },
   "outputs": [
    {
     "name": "stdout",
     "output_type": "stream",
     "text": [
      "             sum_sq    df         F    PR(>F)\n",
      "C         85.675833   3.0  9.915706  0.001436\n",
      "Residual  34.561667  12.0       NaN       NaN\n"
     ]
    }
   ],
   "source": [
    "df['C'] = df['C'].astype('category')\n",
    "model = ols('R ~ C', data=df).fit()\n",
    "aov_table = sm.stats.anova_lm(model, typ=2)\n",
    "print(aov_table)"
   ]
  },
  {
   "cell_type": "code",
   "execution_count": null,
   "metadata": {
    "id": "7tw4fROdYkRr"
   },
   "outputs": [],
   "source": []
  },
  {
   "cell_type": "markdown",
   "metadata": {
    "id": "14ViJFl_YwSY"
   },
   "source": [
    "# Two-Way ANOVA: Effect of Temperature and Position on Baked Density\n",
    "\n",
    "## Given Data\n",
    "\n",
    "An experiment was conducted to determine whether **firing temperature** or **furnace position** affects the **baked density** of a carbon anode. The recorded data are:\n",
    "\n",
    "### Baked Density Data\n",
    "\n",
    "| Position | Temperature (°C) | Density |\n",
    "|----------|-----------------|---------|\n",
    "| **1**    | 800             | 570     |\n",
    "|          | 825             | 1063    |\n",
    "|          | 850             | 565     |\n",
    "|          | 800             | 565     |\n",
    "|          | 825             | 1080    |\n",
    "|          | 850             | 510     |\n",
    "|          | 800             | 583     |\n",
    "|          | 825             | 1043    |\n",
    "|          | 850             | 590     |\n",
    "| **2**    | 800             | 528     |\n",
    "|          | 825             | 988     |\n",
    "|          | 850             | 526     |\n",
    "|          | 800             | 547     |\n",
    "|          | 825             | 1026    |\n",
    "|          | 850             | 538     |\n",
    "|          | 800             | 521     |\n",
    "|          | 825             | 1004    |\n",
    "|          | 850             | 532     |\n",
    "\n",
    "## Tasks\n",
    "\n",
    "### (a) Prepare the data using a **Pandas DataFrame** for a **Two-Way ANOVA** test.\n",
    "\n",
    "### (b) Create **box plots** for each factor (Position and Temperature).  \n",
    "- Analyze whether the box plots suggest a significant difference in baked density with respect to each factor.\n",
    "\n",
    "### (c) Perform a **Two-Way ANOVA test** for **Furnace Position**  \n",
    "- **Null Hypothesis ($H_0$):** Furnace position does not affect baked density.  \n",
    "- **Alternative Hypothesis ($H_a$):** Furnace position affects baked density.  \n",
    "- Test at **$\\alpha = 0.05$** using **both critical values and p-values**.  \n",
    "\n",
    "### (d) Perform a **Two-Way ANOVA test** for **Temperature**  \n",
    "- **Null Hypothesis ($H_0$):** Firing temperature does not affect baked density.  \n",
    "- **Alternative Hypothesis ($H_a$):** Firing temperature affects baked density.  \n",
    "- Test at **$\\alpha = 0.05$** using **both critical values and p-values**.  \n",
    "\n",
    "### (e) Test for **Interaction Effect** between Furnace Position and Temperature  \n",
    "- **Null Hypothesis ($H_0$):** There is no interaction effect.  \n",
    "- **Alternative Hypothesis ($H_a$):** There is an interaction effect.  \n",
    "- Test at **$\\alpha = 0.05$**.  \n",
    "\n",
    "### (f) Use an **Interaction Plot**  \n",
    "- Visually inspect if there is a significant interaction between **furnace position** and **temperature**.  \n",
    "\n",
    "### (g) Verify results using the **`statsmodels.api`** package in Python.\n"
   ]
  },
  {
   "cell_type": "code",
   "execution_count": 9,
   "metadata": {
    "id": "4cfrLXb4YkPb"
   },
   "outputs": [],
   "source": [
    "temp = [\"800\", \"825\", \"850\"] * 6\n",
    "position = ['P1'] * 9 + ['P2'] * 9\n",
    "baked_density = [570, 1063, 565, 565, 1080, 510, 583, 1043, 590,\n",
    "                 528, 988, 526, 547, 1026, 538, 521, 1004, 532]\n",
    "replicates = [1, 1, 1, 2, 2, 2, 3, 3, 3] * 2\n",
    "df = pd.DataFrame({\"Temperature\": temp, \"Position\": position, \"BakedDensity\": baked_density, \"Replicates\": replicates})\n"
   ]
  },
  {
   "cell_type": "code",
   "execution_count": 10,
   "metadata": {
    "colab": {
     "base_uri": "https://localhost:8080/",
     "height": 927
    },
    "id": "bLdRl7uJYkLs",
    "outputId": "6083dca1-35c1-4d37-9e4b-909ce7e538b6"
   },
   "outputs": [
    {
     "data": {
      "image/png": "[encoded data removed]",
      "text/plain": [
       "<Figure size 640x480 with 1 Axes>"
      ]
     },
     "metadata": {},
     "output_type": "display_data"
    },
    {
     "data": {
      "image/png": "[encoded data removed]",
      "text/plain": [
       "<Figure size 640x480 with 1 Axes>"
      ]
     },
     "metadata": {},
     "output_type": "display_data"
    }
   ],
   "source": [
    "sns.boxplot(x=\"Position\", y=\"BakedDensity\", data=df)\n",
    "plt.title(\"Boxplot for Position\")\n",
    "plt.show()\n",
    "\n",
    "sns.boxplot(x=\"Temperature\", y=\"BakedDensity\", data=df)\n",
    "plt.title(\"Boxplot for Temperature\")\n",
    "plt.show()"
   ]
  },
  {
   "cell_type": "code",
   "execution_count": 11,
   "metadata": {
    "colab": {
     "base_uri": "https://localhost:8080/"
    },
    "id": "Dtg3M7GqYkHj",
    "outputId": "7c4379ae-1035-4102-9cef-e8edea947d3c"
   },
   "outputs": [
    {
     "name": "stdout",
     "output_type": "stream",
     "text": [
      "        Source  Sum of Squares  df      F-value   p-value\n",
      "0     Position     7160.055556   1    15.998138  0.001762\n",
      "1  Temperature   945342.111111   2  1056.117056       0.0\n",
      "2  Interaction      818.111111   2     0.913977   0.42711\n",
      "3     Residual     5370.666667  12          NaN       NaN\n"
     ]
    }
   ],
   "source": [
    "N = len(df.BakedDensity)\n",
    "p = len(df.Position.unique())\n",
    "q = len(df.Temperature.unique())\n",
    "m = len(df.Replicates.unique())\n",
    "\n",
    "df_A = p - 1\n",
    "df_B = q - 1\n",
    "df_AB = df_A * df_B\n",
    "df_E = N - (p * q)\n",
    "\n",
    "grand_mean = df['BakedDensity'].mean()\n",
    "\n",
    "SS_T = sum((df.BakedDensity - grand_mean)**2)\n",
    "SS_A = m * q * sum([(df[df.Position == l].BakedDensity.mean()-grand_mean)**2 for l in df.Position.unique()])\n",
    "SS_B = m * p * sum([(df[df.Temperature == t].BakedDensity.mean()-grand_mean)**2 for t in df.Temperature.unique()])\n",
    "SS_E = sum((df.groupby(['Position', 'Temperature'])['BakedDensity'].transform('mean') - df.BakedDensity) ** 2)\n",
    "SS_AB = SS_T - SS_A - SS_B - SS_E\n",
    "\n",
    "MS_A = SS_A / df_A\n",
    "MS_B = SS_B / df_B\n",
    "MS_AB = SS_AB / df_AB\n",
    "MS_E = SS_E / df_E\n",
    "\n",
    "F_A = MS_A / MS_E\n",
    "F_B = MS_B / MS_E\n",
    "F_AB = MS_AB / MS_E\n",
    "\n",
    "p_A = stats.f.sf(F_A, df_A, df_E)\n",
    "p_B = stats.f.sf(F_B, df_B, df_E)\n",
    "p_AB = stats.f.sf(F_AB, df_AB, df_E)\n",
    "\n",
    "anova_results = pd.DataFrame({\n",
    "    'Source': ['Position', 'Temperature', 'Interaction', 'Residual'],\n",
    "    'Sum of Squares': [SS_A, SS_B, SS_AB, SS_E],\n",
    "    'df': [df_A, df_B, df_AB, df_E],\n",
    "    'F-value': [F_A, F_B, F_AB, 'NaN'],\n",
    "    'p-value': [p_A, p_B, p_AB, 'NaN']\n",
    "})\n",
    "print(anova_results)"
   ]
  },
  {
   "cell_type": "code",
   "execution_count": 12,
   "metadata": {
    "colab": {
     "base_uri": "https://localhost:8080/"
    },
    "id": "QwYWZFmSYjR8",
    "outputId": "beeba892-c087-4380-f9a2-026c1e5f2086"
   },
   "outputs": [
    {
     "name": "stdout",
     "output_type": "stream",
     "text": [
      "Position effect: Significant\n",
      "Temperature effect: Significant\n",
      "Interaction effect: Not significant\n"
     ]
    }
   ],
   "source": [
    "alpha = 0.05\n",
    "f_critical_a = f.ppf(1 - alpha, df_A, df_E)\n",
    "f_critical_b = f.ppf(1 - alpha, df_B, df_E)\n",
    "f_critical_ab = f.ppf(1 - alpha, df_AB, df_E)\n",
    "\n",
    "print(\"Position effect:\", \"Significant\" if F_A > f_critical_a else \"Not significant\")\n",
    "print(\"Temperature effect:\", \"Significant\" if F_B > f_critical_b else \"Not significant\")\n",
    "print(\"Interaction effect:\", \"Significant\" if F_AB > f_critical_ab else \"Not significant\")\n"
   ]
  },
  {
   "cell_type": "code",
   "execution_count": 13,
   "metadata": {
    "colab": {
     "base_uri": "https://localhost:8080/",
     "height": 540
    },
    "id": "_jQBQVZDaJX2",
    "outputId": "e8028bf5-10cd-4b7a-93c0-49fa02e4a6fb"
   },
   "outputs": [
    {
     "data": {
      "image/png": "[encoded data removed]",
      "text/plain": [
       "<Figure size 640x480 with 1 Axes>"
      ]
     },
     "metadata": {},
     "output_type": "display_data"
    },
    {
     "name": "stdout",
     "output_type": "stream",
     "text": [
      "                                   sum_sq    df            F        PR(>F)\n",
      "C(Position)                   7160.055556   1.0    15.998138  1.762434e-03\n",
      "C(Temperature)              945342.111111   2.0  1056.117056  3.249924e-14\n",
      "C(Position):C(Temperature)     818.111111   2.0     0.913977  4.271101e-01\n",
      "Residual                      5370.666667  12.0          NaN           NaN\n"
     ]
    }
   ],
   "source": [
    "interaction_plot(df['Position'], df['Temperature'], df['BakedDensity'])\n",
    "plt.show()\n",
    "\n",
    "df['Temperature'] = df['Temperature'].astype(str)\n",
    "model = ols('BakedDensity ~ C(Position) + C(Temperature) + C(Position):C(Temperature)', data=df).fit()\n",
    "anova_table = sm.stats.anova_lm(model, typ=2)\n",
    "print(anova_table)"
   ]
  },
  {
   "cell_type": "markdown",
   "metadata": {
    "id": "cRHBXaSuaRpI"
   },
   "source": [
    "# Two-Way ANOVA: Effect of Poison Type and Treatment on Survival Time\n",
    "\n",
    "## Given Data\n",
    "\n",
    "An experiment was conducted to investigate the effects of **three poisons (I, II, III)** and **four treatments (A, B, C, D)** on the **survival time** of rats (in tens of hours). The data recorded are:\n",
    "\n",
    "### Survival Time Data\n",
    "\n",
    "| Poison | Treatment A | Treatment B | Treatment C | Treatment D |\n",
    "|--------|------------|------------|------------|------------|\n",
    "| **I**  | 0.31       | 0.82       | 0.43       | 0.45       |\n",
    "|        | 0.45       | 1.10       | 0.45       | 0.71       |\n",
    "| **II** | 0.40       | 0.49       | 0.31       | 0.71       |\n",
    "|        | 0.23       | 1.24       | 0.40       | 0.38       |\n",
    "| **III**| 0.22       | 0.30       | 0.23       | 0.30       |\n",
    "|        | 0.23       | 0.29       | 0.22       | 0.33       |\n",
    "\n",
    "## Tasks\n",
    "\n",
    "### (a) Prepare the data using a **Pandas DataFrame** for a **Two-Way ANOVA** test.\n",
    "\n",
    "### (b) Create **box plots** for each factor (**Poison Type** and **Treatment**)  \n",
    "- Visually assess whether there is a significant difference in **survival time** with respect to each factor.\n",
    "\n",
    "### (c) Perform a **Two-Way ANOVA test** for **Poison Type**  \n",
    "- **Null Hypothesis ($H_0$):** Poison type does not affect survival time.  \n",
    "- **Alternative Hypothesis ($H_a$):** Poison type affects survival time.  \n",
    "- Test at **$\\alpha = 0.05$** using **both critical values and p-values**.  \n",
    "\n",
    "### (d) Perform a **Two-Way ANOVA test** for **Treatment**  \n",
    "- **Null Hypothesis ($H_0$):** Treatment does not affect survival time.  \n",
    "- **Alternative Hypothesis ($H_a$):** Treatment affects survival time.  \n",
    "- Test at **$\\alpha = 0.05$** using **both critical values and p-values**.  \n",
    "\n",
    "### (e) Test for **Interaction Effect** between Poison Type and Treatment  \n",
    "- **Null Hypothesis ($H_0$):** There is no interaction effect.  \n",
    "- **Alternative Hypothesis ($H_a$):** There is an interaction effect.  \n",
    "- Test at **$\\alpha = 0.05$**.  \n",
    "\n",
    "### (f) Use an **Interaction Plot**  \n",
    "- Visually inspect if there is a significant interaction between **Poison Type** and **Treatment**.  \n",
    "\n",
    "### (g) Verify results using the **`statsmodels.api`** package in Python.\n"
   ]
  },
  {
   "cell_type": "code",
   "execution_count": 16,
   "metadata": {
    "id": "4iYvvgQJaJVC"
   },
   "outputs": [],
   "source": [
    "poison = ['I'] * 8 + ['II'] * 8 + ['III'] * 8\n",
    "treatments = ['A', 'B', 'C', 'D'] * 6\n",
    "survival_time = [\n",
    "    0.31, 0.82, 0.43, 0.45, 0.45, 1.10, 0.45, 0.71,\n",
    "    0.40, 0.49, 0.31, 0.71, 0.23, 1.24, 0.40, 0.38,\n",
    "    0.22, 0.30, 0.23, 0.30, 0.23, 0.29, 0.22, 0.33\n",
    "]\n",
    "replicates = ['1'] * 4 + ['2'] * 4\n",
    "replicates = replicates * 3\n",
    "\n",
    "df = pd.DataFrame({'Poison': poison, 'Treatment': treatments, 'SurvivalTime': survival_time, 'Replicates': replicates})"
   ]
  },
  {
   "cell_type": "code",
   "execution_count": 17,
   "metadata": {
    "colab": {
     "base_uri": "https://localhost:8080/",
     "height": 957
    },
    "id": "RkRhV-36aJSU",
    "outputId": "cc3e74ca-0ba1-41b2-cba2-fdba5b17e34f"
   },
   "outputs": [
    {
     "data": {
      "image/png": "[encoded data removed]",
      "text/plain": [
       "<Figure size 1200x500 with 1 Axes>"
      ]
     },
     "metadata": {},
     "output_type": "display_data"
    },
    {
     "data": {
      "image/png": "[encoded data removed]",
      "text/plain": [
       "<Figure size 1200x500 with 1 Axes>"
      ]
     },
     "metadata": {},
     "output_type": "display_data"
    }
   ],
   "source": [
    "plt.figure(figsize=(12, 5))\n",
    "sns.boxplot(x='Poison', y='SurvivalTime', data=df)\n",
    "plt.title('Boxplot of Survival Time by Poison Type')\n",
    "plt.show()\n",
    "\n",
    "plt.figure(figsize=(12, 5))\n",
    "sns.boxplot(x='Treatment', y='SurvivalTime', data=df)\n",
    "plt.title('Boxplot of Survival Time by Treatment')\n",
    "plt.show()"
   ]
  },
  {
   "cell_type": "code",
   "execution_count": 18,
   "metadata": {
    "id": "e7018dKjbEKV"
   },
   "outputs": [],
   "source": [
    "N = len(df.SurvivalTime)\n",
    "p = len(df.Poison.unique())\n",
    "q = len(df.Treatment.unique())\n",
    "m = len(df.Replicates.unique())  # Number of replicates\n",
    "\n",
    "df_A = p - 1\n",
    "df_B = q - 1\n",
    "df_AB = df_A * df_B\n",
    "df_E = N - p * q\n",
    "grand_mean = df['SurvivalTime'].mean()\n",
    "\n",
    "SS_T = sum((df.SurvivalTime - grand_mean) ** 2)\n",
    "SS_A = m * q * sum([(df[df.Poison == l].SurvivalTime.mean() - grand_mean) ** 2 for l in df.Poison.unique()])\n",
    "SS_B = m * p * sum([(df[df.Treatment == t].SurvivalTime.mean() - grand_mean) ** 2 for t in df.Treatment.unique()])\n",
    "ss = 0\n",
    "for s in df.Poison.unique():\n",
    "    for t in df.Treatment.unique():\n",
    "        ss += np.sum([(df[(df.Poison == s) & (df.Treatment == t)].SurvivalTime -\n",
    "                       df[(df.Poison == s) & (df.Treatment == t)].SurvivalTime.mean()) ** 2])\n",
    "SS_E = ss\n",
    "SS_AB = SS_T - SS_A - SS_B - SS_E\n",
    "\n",
    "MS_A = SS_A / df_A\n",
    "MS_B = SS_B / df_B\n",
    "MS_AB = SS_AB / df_AB\n",
    "MS_E = SS_E / df_E\n",
    "\n",
    "F_A = MS_A / MS_E\n",
    "F_B = MS_B / MS_E\n",
    "F_AB = MS_AB / MS_E\n",
    "\n",
    "p_A = stats.f.sf(F_A, df_A, df_E)\n",
    "p_B = stats.f.sf(F_B, df_B, df_E)\n",
    "p_AB = stats.f.sf(F_AB, df_AB, df_E)\n"
   ]
  },
  {
   "cell_type": "code",
   "execution_count": 19,
   "metadata": {
    "colab": {
     "base_uri": "https://localhost:8080/",
     "height": 746
    },
    "id": "DfkRHLjnbNlI",
    "outputId": "b4ee2803-ec93-48b6-947e-6540ab69a112"
   },
   "outputs": [
    {
     "name": "stdout",
     "output_type": "stream",
     "text": [
      "                    sum_sq  df         F     P(>F)\n",
      "Poison            0.468133   2  6.415715  0.012737\n",
      "Treatment         0.594867   3  5.435054  0.013575\n",
      "Poison:Treatment  0.203333   6  0.928887  0.508445\n",
      "Residual          0.437800  12       NaN       NaN\n",
      "                          sum_sq    df         F    PR(>F)\n",
      "C(Poison)               0.468133   2.0  6.415715  0.012737\n",
      "C(Treatment)            0.594867   3.0  5.435054  0.013575\n",
      "C(Poison):C(Treatment)  0.203333   6.0  0.928887  0.508445\n",
      "Residual                0.437800  12.0       NaN       NaN\n"
     ]
    },
    {
     "data": {
      "image/png": "[encoded data removed]",
      "text/plain": [
       "<Figure size 800x600 with 1 Axes>"
      ]
     },
     "metadata": {},
     "output_type": "display_data"
    }
   ],
   "source": [
    "results = {'sum_sq': [SS_A, SS_B, SS_AB, SS_E],\n",
    "           'df': [df_A, df_B, df_AB, df_E],\n",
    "           'F': [F_A, F_B, F_AB, 'NaN'],\n",
    "           'P(>F)': [p_A, p_B, p_AB, 'NaN']}\n",
    "aov_table = pd.DataFrame(results, columns=['sum_sq', 'df', 'F', 'P(>F)'],\n",
    "                          index=['Poison', 'Treatment', 'Poison:Treatment', 'Residual'])\n",
    "print(aov_table)\n",
    "\n",
    "model = ols('SurvivalTime ~ C(Poison) * C(Treatment)', data=df).fit()\n",
    "anova_results = sm.stats.anova_lm(model, typ=2)\n",
    "print(anova_results)\n",
    "\n",
    "fig, ax = plt.subplots(figsize=(8, 6))\n",
    "sns.pointplot(x='Treatment', y='SurvivalTime', hue='Poison', data=df, dodge=True, markers=['o', 's', 'D'])\n",
    "plt.title('Interaction Plot of Poison and Treatment')\n",
    "plt.show()"
   ]
  }
 ],
 "metadata": {
  "colab": {
   "provenance": []
  },
  "kernelspec": {
   "display_name": "Python 3",
   "language": "python",
   "name": "python3"
  },
  "language_info": {
   "codemirror_mode": {
    "name": "ipython",
    "version": 3
   },
   "file_extension": ".py",
   "mimetype": "text/x-python",
   "name": "python",
   "nbconvert_exporter": "python",
   "pygments_lexer": "ipython3",
   "version": "3.12.2"
  }
 },
 "nbformat": 4,
 "nbformat_minor": 4
}
