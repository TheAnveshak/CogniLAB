{
 "cells": [
  {
   "cell_type": "markdown",
   "id": "3955e7e6-fbe7-4738-b3ba-8049143f8e41",
   "metadata": {},
   "source": [
    "# Exception"
   ]
  },
  {
   "cell_type": "markdown",
   "id": "aaf96c0a-b60b-48ed-9cc9-14e9c1212417",
   "metadata": {},
   "source": [
    "The <b>try</b> block lets you test a block of code for errors.\n",
    "\n",
    "The <b>expect</b> block lets you handle the error.\n",
    "\n",
    "The <b>else</b> block lets you execute code when there is no error.\n",
    "\n",
    "The <b>finally</b> block lets you execute code, regardless of the result of the try- and except blocks."
   ]
  },
  {
   "cell_type": "code",
   "execution_count": null,
   "id": "16498984-5b7c-4b79-8403-4efc886554c0",
   "metadata": {},
   "outputs": [],
   "source": [
    "try:\n",
    "    number = int(input(\"Enter a number: \"))\n",
    "    result = 10 / number\n",
    "    print(f\"Result: {result}\")\n",
    "except ZeroDivisionError:\n",
    "    print(\"Error: Division by zero is not allowed.\")\n",
    "except ValueError:\n",
    "    print(\"Error: Invalid input. Please enter a number.\")\n",
    "finally:\n",
    "    print(\"Eat 5 star do noting\")"
   ]
  },
  {
   "cell_type": "markdown",
   "id": "59f41c44-59e7-4115-a139-826598b984f5",
   "metadata": {},
   "source": [
    "# Iterate Over Dictionary"
   ]
  },
  {
   "cell_type": "code",
   "execution_count": null,
   "id": "289e94cd-76c6-41e3-a79f-bddb1c622804",
   "metadata": {},
   "outputs": [],
   "source": [
    "reactorProperties = { \"Volume\": \"m³\", \"Pressure\": \"Pa\", \"Temperature\": \"K\", \"Flow Rate\": \"m³/h\", \"Concentration\": \"mol/L\" }\n",
    "for property, value in reactorProperties.items():\n",
    "    print(f'{property}→{value}')\n"
   ]
  },
  {
   "cell_type": "markdown",
   "id": "4d0ede48-c736-479c-858f-a7c298fd368a",
   "metadata": {},
   "source": [
    "# Area of Triangle"
   ]
  },
  {
   "cell_type": "code",
   "execution_count": null,
   "id": "88b3dfa6-921a-4919-8945-d1547f668ff7",
   "metadata": {},
   "outputs": [],
   "source": [
    "import numpy as np\n",
    "def Area(a,b,c):\n",
    "    if a+b>c and a+c>b and b+c>a:\n",
    "        s = (a+b+c)/2\n",
    "        A = np.sqrt(s*(s-a)*(s-b)*(s-c))\n",
    "        return A;\n",
    "    elif a+b == c or b+c==a or a+c==b:\n",
    "        return 0;\n",
    "    else:\n",
    "        return None\n",
    "\n",
    "Area(1,1,5)"
   ]
  },
  {
   "cell_type": "markdown",
   "id": "4d5bb734-0060-4210-b4eb-9176cf50a9df",
   "metadata": {},
   "source": [
    "# Bisection method"
   ]
  },
  {
   "cell_type": "code",
   "execution_count": null,
   "id": "8514a414-2542-4497-ac37-a41fd35bf2e2",
   "metadata": {},
   "outputs": [],
   "source": [
    "def bisection(f,x1,x2, maxitr = 10, tol = 1e-6):\n",
    "    i = 1\n",
    "    error = 1 \n",
    "    while i< maxitr and error>= tol:\n",
    "        x3 = (x1+x2)/2\n",
    "        error = abs(x3 - f(x3))\n",
    "        if np.sign(f(x3)) == np.sign(f(x2)):\n",
    "            x1,x2 = x1,x3;\n",
    "        if np.sign(f(x3))== np.sign(f(x1)):\n",
    "            x1,x2 = x3,x2\n",
    "        i += 1\n",
    "    return x3"
   ]
  },
  {
   "cell_type": "code",
   "execution_count": null,
   "id": "b78830f2-6eaa-4369-9d49-aad8bca1951c",
   "metadata": {},
   "outputs": [],
   "source": [
    "f = lambda x: x**2 -5;\n",
    "bisection(f,4,0)"
   ]
  },
  {
   "cell_type": "markdown",
   "id": "25adb94c-8296-4df3-8c5b-8b539e24d0f4",
   "metadata": {},
   "source": [
    "# Monte Carlo Approximation of pi"
   ]
  },
  {
   "cell_type": "code",
   "execution_count": null,
   "id": "0f7233a7-8bc4-4943-b5a8-1cff3135fce7",
   "metadata": {},
   "outputs": [],
   "source": [
    "from random import random\n",
    "n = 10000000 # number of points,  more the number of points more the computation costs, more accurate approximation \n",
    "points = [(random(),random()) for i in range(n+1)]\n",
    "circle_points = [p for p in points if p[0]**2+p[1]**2 <= 1]\n",
    "\n",
    "pi = 4*len(circle_points)/len(points)\n",
    "print(pi)"
   ]
  },
  {
   "cell_type": "markdown",
   "id": "bf91d7ae-4317-40c2-8343-8008f64bebd5",
   "metadata": {},
   "source": [
    "# Estimation of log(a)"
   ]
  },
  {
   "cell_type": "code",
   "execution_count": null,
   "id": "2f69f270-3630-4075-a272-e8b1853651f7",
   "metadata": {},
   "outputs": [],
   "source": [
    "n = 1000\n",
    "a = 1.5\n",
    "log_a = 0\n",
    "for i in range(1,n+1):\n",
    "    log_a += (-1)**(i-1)*(a-1)**i/i\n",
    "\n",
    "print(log_a)"
   ]
  },
  {
   "cell_type": "markdown",
   "id": "90dee42e-6915-4722-9cbc-e7c83a6912f5",
   "metadata": {},
   "source": [
    "# Cubic Solver"
   ]
  },
  {
   "cell_type": "code",
   "execution_count": null,
   "id": "fc0e1e38-341a-4f80-bf60-fdf6076d73e9",
   "metadata": {},
   "outputs": [],
   "source": [
    "import math\n",
    "\n",
    "def solve_cubic(a, b, c, d):\n",
    "    if abs(a) < 1e-8:\n",
    "        a, b, c = b, c, d\n",
    "        if abs(a) < 1e-8:\n",
    "            a, b = b, c\n",
    "            return [] if abs(a) < 1e-8 else [-b / a]\n",
    "        D = b * b - 4 * a * c\n",
    "        return [] if D < 0 else [(-b + math.sqrt(D)) / (2 * a), (-b - math.sqrt(D)) / (2 * a)] if D > 0 else [-b / (2 * a)]\n",
    "\n",
    "    p = (3 * a * c - b * b) / (3 * a * a)\n",
    "    q = (2 * b * b * b - 9 * a * b * c + 27 * a * a * d) / (27 * a * a * a)\n",
    "    roots = []\n",
    "\n",
    "    if abs(p) < 1e-8: \n",
    "        roots = [math.cbrt(-q)]\n",
    "    elif abs(q) < 1e-8: \n",
    "        roots = [0, math.sqrt(-p), -math.sqrt(-p)] if p < 0 else [0]\n",
    "    else:\n",
    "        D = q * q / 4 + p * p * p / 27\n",
    "        if abs(D) < 1e-8:\n",
    "            roots = [-1.5 * q / p, 3 * q / p]\n",
    "        elif D > 0:\n",
    "            u = math.cbrt(-q / 2 - math.sqrt(D))\n",
    "            roots = [u - p / (3 * u)]\n",
    "        else:\n",
    "            u = 2 * math.sqrt(-p / 3)\n",
    "            t = math.acos(3 * q / p / u) / 3\n",
    "            k = 2 * math.pi / 3\n",
    "            roots = [u * math.cos(t), u * math.cos(t - k), u * math.cos(t - 2 * k)]\n",
    "\n",
    "    return [r - b / (3 * a) for r in roots]\n"
   ]
  }
 ],
 "metadata": {
  "kernelspec": {
   "display_name": "Python 3 (ipykernel)",
   "language": "python",
   "name": "python3"
  },
  "language_info": {
   "codemirror_mode": {
    "name": "ipython",
    "version": 3
   },
   "file_extension": ".py",
   "mimetype": "text/x-python",
   "name": "python",
   "nbconvert_exporter": "python",
   "pygments_lexer": "ipython3",
   "version": "3.12.7"
  }
 },
 "nbformat": 4,
 "nbformat_minor": 5
}
