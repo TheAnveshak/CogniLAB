{
 "cells": [
  {
   "cell_type": "markdown",
   "id": "3d9c30bf-db56-41f3-add4-f161add47cfd",
   "metadata": {},
   "source": [
    "# Cycle Stand"
   ]
  },
  {
   "cell_type": "code",
   "execution_count": 1,
   "id": "3ac2ef5f-4bcc-4925-8601-4c3454a45a26",
   "metadata": {},
   "outputs": [
    {
     "name": "stdout",
     "output_type": "stream",
     "text": [
      "[4845.33797402 3858.74535894 4016.41659834 2390.94291762 2649.46285932\n",
      " 2239.09429176] 20000.00000000001\n"
     ]
    }
   ],
   "source": [
    "import numpy as np\n",
    "b = np.array([4000,1000,6000,4000,1000,4000])\n",
    "A = np.array([[.1,.2,.1,.2,.6,.5],[.2,.3,.25,.1,.1,.1],[.25,.13,.33,.26,.05,.1],[.15,.1,.17,.1,.05,.1],[.2,.17,.05,.14,.1,.1],[.1,.1,.1,.2,.1,.1]])\n",
    "G = b.copy()\n",
    "\n",
    "for i in range(100):\n",
    "    G = A@G\n",
    "print(G , sum(G))"
   ]
  },
  {
   "cell_type": "code",
   "execution_count": 5,
   "id": "eff40b02-e3b2-4665-a228-6ef2ceae2411",
   "metadata": {},
   "outputs": [
    {
     "name": "stdout",
     "output_type": "stream",
     "text": [
      "1.0000000000000002\n",
      "1.0\n",
      "1.0\n",
      "1.0\n",
      "1.0\n",
      "0.9999999999999999\n"
     ]
    }
   ],
   "source": [
    "for i in range(len(A)):\n",
    "    print(sum(A.T[i]))"
   ]
  },
  {
   "cell_type": "code",
   "execution_count": 17,
   "id": "53534a91-0330-4f46-b380-97e41987814b",
   "metadata": {},
   "outputs": [
    {
     "name": "stdout",
     "output_type": "stream",
     "text": [
      "(0.9999999999999989+0j)\n",
      "[[0.2422669  0.2422669  0.2422669  0.2422669  0.2422669  0.2422669 ]\n",
      " [0.19293727 0.19293727 0.19293727 0.19293727 0.19293727 0.19293727]\n",
      " [0.20082083 0.20082083 0.20082083 0.20082083 0.20082083 0.20082083]\n",
      " [0.11954715 0.11954715 0.11954715 0.11954715 0.11954715 0.11954715]\n",
      " [0.13247314 0.13247314 0.13247314 0.13247314 0.13247314 0.13247314]\n",
      " [0.11195471 0.11195471 0.11195471 0.11195471 0.11195471 0.11195471]]\n"
     ]
    }
   ],
   "source": [
    "eigvals, evecs = np.linalg.eig(A)\n",
    "print(np.max(eigvals))\n",
    "print(np.linalg.matrix_power(A, 100))"
   ]
  },
  {
   "cell_type": "markdown",
   "id": "b9d1bdcc-7aab-4021-a608-badaa2e0389a",
   "metadata": {},
   "source": [
    "# Gauss Seidel and Jacobbi"
   ]
  },
  {
   "cell_type": "code",
   "execution_count": 3,
   "id": "70542464-2fda-4ded-90df-c3a5885a894e",
   "metadata": {},
   "outputs": [],
   "source": [
    "def gs(A, b, x, tol=1e-5, maxitr=50):\n",
    "    A, b, x = np.array(A), np.array(b), np.array(x, dtype=float)\n",
    "    if len(A) != len(b):\n",
    "        return 'Not Good'\n",
    "\n",
    "    n, k, error = len(A), 1, 1\n",
    "\n",
    "    while k <= maxitr and error >= tol:\n",
    "        new_x = x.copy()\n",
    "        for i in range(n):\n",
    "            new_x[i] = (b[i] - np.dot(A[i], x) + A[i, i] * x[i]) / A[i, i]\n",
    "        error = np.linalg.norm(new_x - x)\n",
    "        x, k = new_x.copy(), k + 1\n",
    "\n",
    "    return new_x\n"
   ]
  },
  {
   "cell_type": "code",
   "execution_count": 7,
   "id": "32df9f05-bfaf-4c1c-a6af-fb8e6910b2f8",
   "metadata": {},
   "outputs": [],
   "source": [
    "def j(A, b, x, tol=1e-5, maxitr=50):\n",
    "    A, b, x = np.array(A), np.array(b), np.array(x, dtype=float)\n",
    "    if len(A) != len(b):\n",
    "        return 'Not Good'\n",
    "\n",
    "    n, k, error = len(A), 1, 1\n",
    "\n",
    "    while k <= maxitr and error >= tol:\n",
    "        old_x = x.copy()\n",
    "        for i in range(n):\n",
    "            x[i] = (b[i] - np.dot(A[i], x) + A[i, i] * x[i]) / A[i, i]\n",
    "        error = np.linalg.norm(old_x - x)\n",
    "        k += 1\n",
    "\n",
    "    return x\n"
   ]
  }
 ],
 "metadata": {
  "kernelspec": {
   "display_name": "Python [conda env:base] *",
   "language": "python",
   "name": "conda-base-py"
  },
  "language_info": {
   "codemirror_mode": {
    "name": "ipython",
    "version": 3
   },
   "file_extension": ".py",
   "mimetype": "text/x-python",
   "name": "python",
   "nbconvert_exporter": "python",
   "pygments_lexer": "ipython3",
   "version": "3.12.7"
  }
 },
 "nbformat": 4,
 "nbformat_minor": 5
}
