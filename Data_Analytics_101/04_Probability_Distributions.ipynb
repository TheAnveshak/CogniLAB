{
 "cells": [
  {
   "cell_type": "code",
   "execution_count": null,
   "id": "9ea988ac-c130-4488-9d38-dbffadbc3a5a",
   "metadata": {},
   "outputs": [],
   "source": [
    "import numpy as np\n",
    "import matplotlib.pyplot as plt"
   ]
  },
  {
   "cell_type": "markdown",
   "id": "e38af5f8-0633-4a96-a464-9a195721d36e",
   "metadata": {},
   "source": [
    "# Google Pagerank Algorithm (Matrix form)"
   ]
  },
  {
   "cell_type": "code",
   "execution_count": null,
   "id": "fbf549f6-e3fa-4f19-8396-4e098d2d3e30",
   "metadata": {},
   "outputs": [],
   "source": [
    "def pr(A, d=0.85, tol=1e-6, max_iter=100):\n",
    "    n = A.shape[0]\n",
    "    pr = np.ones(n) / n\n",
    "    A = A / A.sum(axis=0) \n",
    "\n",
    "    for _ in range(max_iter):\n",
    "        pr_new = (1 - d) / n + d * A @ pr\n",
    "        if np.linalg.norm(pr_new - pr) < tol:\n",
    "            return pr_new\n",
    "        pr = pr_new\n",
    "\n",
    "    return pr"
   ]
  },
  {
   "cell_type": "markdown",
   "id": "89fc2587-23cf-4a79-97a1-37c624390217",
   "metadata": {},
   "source": [
    "# $\\prod$ Chart and Stuff...."
   ]
  },
  {
   "cell_type": "code",
   "execution_count": null,
   "id": "af520d30-f384-4166-a83b-5929e93f6ed7",
   "metadata": {},
   "outputs": [],
   "source": [
    "investors = ['Arya', 'Dhavall', 'Soham', 'Karan', 'Yashraj', 'Sourabh']\n",
    "investments = [10, 15, 20, 25, 30, 35]\n",
    "\n",
    "plt.pie(investments, labels=investors, labeldistance=0.75, shadow=True, startangle=90, \n",
    "        explode=[0, 0.1, 0.2, 0, 0, 0], colors=['orange', 'cyan', 'magenta', 'green', 'red', 'blue'])\n",
    "plt.title(\"Investment Distribution\")\n",
    "plt.show()\n"
   ]
  },
  {
   "cell_type": "markdown",
   "id": "9d349dbc-0601-43e8-9ff5-96b8999f3685",
   "metadata": {},
   "source": [
    "# Plot the circle and Square from the monte carlo Method"
   ]
  },
  {
   "cell_type": "code",
   "execution_count": null,
   "id": "cce2a660-06c4-4374-9137-7020e440e833",
   "metadata": {},
   "outputs": [],
   "source": [
    "def unit_circle(x, y):\n",
    "    return x**2 + y**2 - 1\n",
    "circle_points = [[],[]]\n",
    "other_points = [[],[]]\n",
    "for i in range(1000):\n",
    "    x, y = np.random.uniform(-1,1),np.random.uniform(-1,1)\n",
    "    if unit_circle(x, y)<0:\n",
    "        circle_points[0].append(x)\n",
    "        circle_points[1].append(y)\n",
    "    else:\n",
    "        other_points[0].append(x)\n",
    "        other_points[1].append(y)\n",
    "\n",
    "print(f'Pi = {len(circle_points[0])/(len(circle_points[0]) + len(other_points[0]))*4}')\n",
    "plt.plot(circle_points[0], circle_points[1], 'o')\n",
    "plt.plot(other_points[0], other_points[1], 'o')"
   ]
  },
  {
   "cell_type": "markdown",
   "id": "584801bd-b08d-40cb-951e-50893b55d308",
   "metadata": {},
   "source": [
    "# PDF"
   ]
  },
  {
   "cell_type": "code",
   "execution_count": null,
   "id": "3a69cd5d-ecf1-4401-a880-e9586f24c792",
   "metadata": {},
   "outputs": [],
   "source": [
    "def gaussian_pdf(x, mean=0, std=1):\n",
    "    return (1/ (std * np.sqrt(2 * np.pi))) * np.exp(-0.5 * ((x - mean) / std) ** 2)\n",
    "\n",
    "x = np.linspace(-5, 5, 100)\n",
    "y = gaussian_pdf(x)\n",
    "\n",
    "plt.plot(x, y)\n",
    "plt.title('Gaussian Distribution PDF')\n",
    "plt.show()"
   ]
  },
  {
   "cell_type": "markdown",
   "id": "257cd315-3b5c-48f2-8017-d8858c8aa74a",
   "metadata": {},
   "source": [
    "# CDF"
   ]
  },
  {
   "cell_type": "code",
   "execution_count": null,
   "id": "b14d7abd-0afe-4876-9e6b-b2f10efd242d",
   "metadata": {},
   "outputs": [],
   "source": [
    "def exponential_cdf(x, lam=1):\n",
    "    return 1 - np.exp(-lam * x)\n",
    "\n",
    "x = np.linspace(0, 5, 100)\n",
    "y = exponential_cdf(x)\n",
    "\n",
    "plt.plot(x, y)\n",
    "plt.title('Exponential Distribution CDF')\n",
    "plt.show()"
   ]
  }
 ],
 "metadata": {
  "kernelspec": {
   "display_name": "Python 3 (ipykernel)",
   "language": "python",
   "name": "python3"
  },
  "language_info": {
   "codemirror_mode": {
    "name": "ipython",
    "version": 3
   },
   "file_extension": ".py",
   "mimetype": "text/x-python",
   "name": "python",
   "nbconvert_exporter": "python",
   "pygments_lexer": "ipython3",
   "version": "3.12.7"
  }
 },
 "nbformat": 4,
 "nbformat_minor": 5
}
