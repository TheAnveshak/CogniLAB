{
 "cells": [
  {
   "cell_type": "markdown",
   "id": "260d42d7-e015-4353-8f03-b65e84eefd12",
   "metadata": {
    "id": "260d42d7-e015-4353-8f03-b65e84eefd12"
   },
   "source": [
    "# Chi-2 Test"
   ]
  },
  {
   "cell_type": "code",
   "execution_count": 40,
   "id": "WuEtdT16C19U",
   "metadata": {
    "id": "WuEtdT16C19U"
   },
   "outputs": [],
   "source": [
    "import numpy as np\n",
    "from scipy.stats import chi2_contingency, t , chi2 as scst\n",
    "import pandas as pd"
   ]
  },
  {
   "cell_type": "code",
   "execution_count": 41,
   "id": "5aecdea8-35fe-45ac-82d3-30a8ec30e261",
   "metadata": {
    "id": "5aecdea8-35fe-45ac-82d3-30a8ec30e261"
   },
   "outputs": [],
   "source": [
    "def chi2(data, alpha=0.05):\n",
    "    df = pd.DataFrame(data)\n",
    "    total = df.values.sum()\n",
    "    col_sums = df.sum(axis=0).values\n",
    "    row_sums = df.sum(axis=1).values\n",
    "\n",
    "    expected = np.outer(row_sums, col_sums) / total\n",
    "\n",
    "    obs_chi2 = np.sum((df.values - expected) ** 2 / expected)\n",
    "\n",
    "    dof = (df.shape[0] - 1) * (df.shape[1] - 1)\n",
    "\n",
    "    pval = scst.sf(obs_chi2, dof)\n",
    "\n",
    "    chi2_stat, p, dof, expected_theo = chi2_contingency(data)\n",
    "\n",
    "    print(f\"Experimental/data based : Chi-Square value = {obs_chi2:.4f}\")\n",
    "    print(f\"Theoretical: Chi-Square value = {chi2_stat:.4f}\")\n",
    "    print(f\"p-value = {pval:.4f} (alpha={alpha})\")\n",
    "\n",
    "    if pval < alpha:\n",
    "        print(f\"Reject the null hypothesis.\")\n",
    "    else:\n",
    "        print(f\"Null Hypothesis Accepted]\")"
   ]
  },
  {
   "cell_type": "code",
   "execution_count": 42,
   "id": "wj3vx5PBGArL",
   "metadata": {
    "colab": {
     "base_uri": "https://localhost:8080/"
    },
    "id": "wj3vx5PBGArL",
    "outputId": "7dadfdc4-e4db-4cdc-962a-d954c444cc4a"
   },
   "outputs": [
    {
     "name": "stdout",
     "output_type": "stream",
     "text": [
      "Experimental/data based : Chi-Square value = 63.7961\n",
      "Theoretical: Chi-Square value = 63.7961\n",
      "p-value = 0.0000 (alpha=0.05)\n",
      "Reject the null hypothesis.\n"
     ]
    }
   ],
   "source": [
    "data = [[15.5, 25.2, 69.79], [80.2, 41, 41.225], [72, 11.1, 49.7]]\n",
    "chi2(data)"
   ]
  },
  {
   "cell_type": "markdown",
   "id": "81d9dc3f-3f05-4b27-ba15-c63ce0e17f33",
   "metadata": {
    "id": "81d9dc3f-3f05-4b27-ba15-c63ce0e17f33"
   },
   "source": [
    "# t-Test"
   ]
  },
  {
   "cell_type": "markdown",
   "id": "67806247-d180-4002-a159-2d804da009a5",
   "metadata": {
    "id": "67806247-d180-4002-a159-2d804da009a5"
   },
   "source": [
    "## One Sample"
   ]
  },
  {
   "cell_type": "code",
   "execution_count": 55,
   "id": "KksrWCE6IgyJ",
   "metadata": {
    "id": "KksrWCE6IgyJ"
   },
   "outputs": [],
   "source": [
    "from scipy.stats import norm, t\n",
    "import scipy.stats as stats"
   ]
  },
  {
   "cell_type": "code",
   "execution_count": 47,
   "id": "a4473002-061d-4d05-ab8c-0c4df4d23445",
   "metadata": {
    "id": "a4473002-061d-4d05-ab8c-0c4df4d23445"
   },
   "outputs": [],
   "source": [
    "def one_sample_t_test(S, mu, alpha=0.05, direction='+'):\n",
    "    x_bar = sum(S) / len(S)\n",
    "    sd = np.sqrt(sum((x - x_bar) ** 2 for x in S) / (len(S) - 1))\n",
    "    se = sd / np.sqrt(len(S))\n",
    "    df = len(S) - 1\n",
    "\n",
    "    obs_t = (x_bar - mu) / se\n",
    "    p_val = 1 - t.cdf(obs_t, df)\n",
    "\n",
    "    if direction == '+-':\n",
    "        alpha /= 2\n",
    "        p_val *= 2\n",
    "    elif direction == '-':\n",
    "        alpha = 1 - alpha\n",
    "        p_val = t.cdf(obs_t, df)\n",
    "\n",
    "    print(f'Experimental t-value: {obs_t:.4f}, p-value: {p_val:.4f}')\n",
    "    return p_val >= alpha"
   ]
  },
  {
   "cell_type": "code",
   "execution_count": 48,
   "id": "qiebd6dFKZLs",
   "metadata": {
    "colab": {
     "base_uri": "https://localhost:8080/"
    },
    "id": "qiebd6dFKZLs",
    "outputId": "4edee52e-bc27-4720-fcbe-5e9fded23129"
   },
   "outputs": [
    {
     "name": "stdout",
     "output_type": "stream",
     "text": [
      "Experimental t-value: -0.4773, p-value: 0.6829\n"
     ]
    },
    {
     "data": {
      "text/plain": [
       "True"
      ]
     },
     "execution_count": 48,
     "metadata": {},
     "output_type": "execute_result"
    }
   ],
   "source": [
    "data = np.random.randint(0, 100, 100)\n",
    "one_sample_t_test(data, mu=50)"
   ]
  },
  {
   "cell_type": "markdown",
   "id": "dee4d69b-f003-49b9-9929-af469f79df40",
   "metadata": {
    "id": "dee4d69b-f003-49b9-9929-af469f79df40"
   },
   "source": [
    "## Two Sample"
   ]
  },
  {
   "cell_type": "code",
   "execution_count": 51,
   "id": "4b7ee3c2-31c1-4527-b92d-844fd1e9ffae",
   "metadata": {
    "id": "4b7ee3c2-31c1-4527-b92d-844fd1e9ffae"
   },
   "outputs": [],
   "source": [
    "def two_sample_unpaired_test(S1, S2, equal_var=False, alpha=0.05, direction='+'):\n",
    "    x1_bar, x2_bar = np.mean(S1), np.mean(S2)\n",
    "    var1, var2 = np.var(S1, ddof=1), np.var(S2, ddof=1)\n",
    "    n1, n2 = len(S1), len(S2)\n",
    "\n",
    "    if equal_var:\n",
    "        sp = np.sqrt(((n1 - 1) * var1 + (n2 - 1) * var2) / (n1 + n2 - 2))\n",
    "        se = sp * np.sqrt(1/n1 + 1/n2)\n",
    "        df = n1 + n2 - 2\n",
    "    else:\n",
    "        se = np.sqrt(var1 / n1 + var2 / n2)\n",
    "        df = (var1 / n1 + var2 / n2) ** 2 / ((var1 / n1) ** 2 / (n1 - 1) + (var2 / n2) ** 2 / (n2 - 1))\n",
    "\n",
    "    obs_t = (x1_bar - x2_bar) / se\n",
    "    p_val = 1 - t.cdf(obs_t, df)\n",
    "\n",
    "    if direction == '+-':\n",
    "        alpha /= 2\n",
    "        p_val *= 2\n",
    "    elif direction == '-':\n",
    "        alpha = 1 - alpha\n",
    "        p_val = t.cdf(obs_t, df)\n",
    "\n",
    "    print(f'Experimental t-value: {obs_t:.4f}, p-value: {p_val:.4f}')\n",
    "    return p_val >= alpha"
   ]
  },
  {
   "cell_type": "code",
   "execution_count": 57,
   "id": "Bx-V4oYjLamd",
   "metadata": {
    "id": "Bx-V4oYjLamd"
   },
   "outputs": [],
   "source": [
    "def two_sample_paired_test(S1, S2, alpha=0.05, direction='+'):\n",
    "    return one_sample_t_test([s1 - s2 for s1, s2 in zip(S1, S2)], 0, alpha, direction)"
   ]
  },
  {
   "cell_type": "code",
   "execution_count": 58,
   "id": "dGl0938aLMMT",
   "metadata": {
    "colab": {
     "base_uri": "https://localhost:8080/"
    },
    "id": "dGl0938aLMMT",
    "outputId": "e0668b7d-e4f1-45dc-feaa-59b2594e21fe"
   },
   "outputs": [
    {
     "name": "stdout",
     "output_type": "stream",
     "text": [
      "Experimental t-value: 0.6888, p-value: 0.2459\n"
     ]
    },
    {
     "data": {
      "text/plain": [
       "True"
      ]
     },
     "execution_count": 58,
     "metadata": {},
     "output_type": "execute_result"
    }
   ],
   "source": [
    "data1 = np.random.normal(500, 100, 100).astype(int)\n",
    "data2 = np.random.normal(500, 95, 100).astype(int)\n",
    "two_sample_unpaired_test(data1, data2)"
   ]
  },
  {
   "cell_type": "code",
   "execution_count": 56,
   "id": "bc4f85a0-bcb5-4b67-b351-db7975306302",
   "metadata": {
    "colab": {
     "base_uri": "https://localhost:8080/"
    },
    "id": "bc4f85a0-bcb5-4b67-b351-db7975306302",
    "outputId": "0038a83c-d100-401a-d9d5-f6fa5c7a1348"
   },
   "outputs": [
    {
     "name": "stdout",
     "output_type": "stream",
     "text": [
      "Type of tailed test: 2 or 1? 2\n",
      "Restriction: between -1.9600 and 1.9600\n"
     ]
    }
   ],
   "source": [
    "alpha = 0.05\n",
    "n = int(input('Type of tailed test: 2 or 1? '))\n",
    "if n == 2:\n",
    "    p = norm.ppf(alpha / 2)\n",
    "    print(f'Restriction: between {-abs(p):.4f} and {abs(p):.4f}')\n",
    "elif n == 1:\n",
    "    p = norm.ppf(alpha)\n",
    "    print(f'Restriction: above {abs(p):.4f}')\n",
    "else:\n",
    "    print('Error: Invalid input')"
   ]
  },
  {
   "cell_type": "code",
   "execution_count": null,
   "id": "cd46dddb-9708-4aab-ad35-7a1c94330151",
   "metadata": {
    "id": "cd46dddb-9708-4aab-ad35-7a1c94330151"
   },
   "outputs": [],
   "source": []
  },
  {
   "cell_type": "code",
   "execution_count": null,
   "id": "g2E0CekxLikw",
   "metadata": {
    "id": "g2E0CekxLikw"
   },
   "outputs": [],
   "source": []
  },
  {
   "cell_type": "code",
   "execution_count": null,
   "id": "lp15RfQRLih8",
   "metadata": {
    "id": "lp15RfQRLih8"
   },
   "outputs": [],
   "source": []
  },
  {
   "cell_type": "code",
   "execution_count": null,
   "id": "9aIf9qPTLifT",
   "metadata": {
    "id": "9aIf9qPTLifT"
   },
   "outputs": [],
   "source": []
  },
  {
   "cell_type": "code",
   "execution_count": null,
   "id": "6EeAYiurLico",
   "metadata": {
    "id": "6EeAYiurLico"
   },
   "outputs": [],
   "source": []
  },
  {
   "cell_type": "code",
   "execution_count": null,
   "id": "a2TyTMFlLiaD",
   "metadata": {
    "id": "a2TyTMFlLiaD"
   },
   "outputs": [],
   "source": []
  },
  {
   "cell_type": "code",
   "execution_count": null,
   "id": "XIau4zJXLiXO",
   "metadata": {
    "id": "XIau4zJXLiXO"
   },
   "outputs": [],
   "source": []
  },
  {
   "cell_type": "code",
   "execution_count": null,
   "id": "OwY-7WKzLiUd",
   "metadata": {
    "id": "OwY-7WKzLiUd"
   },
   "outputs": [],
   "source": []
  },
  {
   "cell_type": "code",
   "execution_count": null,
   "id": "tqoXq404LiR7",
   "metadata": {
    "id": "tqoXq404LiR7"
   },
   "outputs": [],
   "source": []
  }
 ],
 "metadata": {
  "colab": {
   "provenance": []
  },
  "kernelspec": {
   "display_name": "Python 3",
   "language": "python",
   "name": "python3"
  },
  "language_info": {
   "codemirror_mode": {
    "name": "ipython",
    "version": 3
   },
   "file_extension": ".py",
   "mimetype": "text/x-python",
   "name": "python",
   "nbconvert_exporter": "python",
   "pygments_lexer": "ipython3",
   "version": "3.12.2"
  }
 },
 "nbformat": 4,
 "nbformat_minor": 5
}
