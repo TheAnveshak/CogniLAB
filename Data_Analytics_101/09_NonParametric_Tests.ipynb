{
 "cells": [
  {
   "cell_type": "code",
   "execution_count": 1,
   "metadata": {
    "id": "Jl-bRpIjekCi"
   },
   "outputs": [],
   "source": [
    "import numpy as np\n",
    "import pandas as pd\n",
    "import scipy.stats as stats\n",
    "import statsmodels.api as sm\n",
    "from statsmodels.formula.api import ols\n",
    "import matplotlib.pyplot as plt\n",
    "import seaborn as sns"
   ]
  },
  {
   "cell_type": "markdown",
   "metadata": {
    "id": "OLYxFZgHeUtc"
   },
   "source": [
    "# Mann Whitney U Test"
   ]
  },
  {
   "cell_type": "code",
   "execution_count": 2,
   "metadata": {
    "id": "jWnWlKWhd2Bv"
   },
   "outputs": [],
   "source": [
    "import numpy as np\n",
    "from scipy import stats\n",
    "\n",
    "def mann_whitney_u(A, B):\n",
    "    all_data = np.concatenate((A, B))\n",
    "    ranks = stats.rankdata(all_data)\n",
    "    ranks_A = ranks[:len(A)]\n",
    "    ranks_B = ranks[len(A):]\n",
    "    R1 = np.sum(ranks_A)\n",
    "    R2 = np.sum(ranks_B)\n",
    "    n1, n2 = len(A), len(B)\n",
    "\n",
    "    U1 = (n1 * n2) + (n1 * (n1 + 1) / 2) - R1\n",
    "    U2 = (n1 * n2) + (n2 * (n2 + 1) / 2) - R2\n",
    "    U = min(U1, U2)\n",
    "    mu_U = (n1 * n2) / 2\n",
    "    sigma_U = np.sqrt((n1 * n2 * (n1 + n2 + 1)) / 12)\n",
    "\n",
    "    Z = (U - mu_U) / sigma_U\n",
    "    p_value = 2 * (1 - stats.norm.cdf(abs(Z)))\n",
    "\n",
    "    print(f\"Mann-Whitney U Statistic: {U}\")\n",
    "    print(f\"Z-score: {Z:.4f}\")\n",
    "    print(f\"P-value: {p_value:.4f}\")\n",
    "\n",
    "    alpha = 0.05\n",
    "    if p_value < alpha:\n",
    "        print(\"Reject the null hypothesis: Significant difference detected.\")\n",
    "    else:\n",
    "        print(\"Fail to reject the null hypothesis: No significant difference detected.\")\n",
    "\n",
    "    return U, p_value"
   ]
  },
  {
   "cell_type": "markdown",
   "metadata": {
    "id": "psNrqVwAgK3o"
   },
   "source": [
    "# Wilcoxon Sign-Ranked Test"
   ]
  },
  {
   "cell_type": "code",
   "execution_count": 3,
   "metadata": {
    "id": "TZUedG8wfSkj"
   },
   "outputs": [],
   "source": [
    "def WilcoxonSR(A, B):\n",
    "    d = A - B\n",
    "    ad = np.abs(d)\n",
    "    r = stats.rankdata(ad)\n",
    "    sr = np.sign(d) * r\n",
    "    Wp, Wn = np.sum(sr[sr > 0]), -np.sum(sr[sr < 0])\n",
    "    W = min(Wp, Wn)\n",
    "    n = len(d)\n",
    "    mu, sig = n * (n + 1) / 4, np.sqrt(n * (n + 1) * (2 * n + 1) / 24)\n",
    "    Z = (W - mu) / sig\n",
    "    p = 2 * stats.norm.cdf(Z)\n",
    "    print(f\"Z = {Z:.4f}, P = {p:.4f}, W+ = {Wp}, W- = {Wn}, W = {W}\")\n",
    "    print(\"Reject H0\" if p < 0.05 else \"Fail to reject H0\")"
   ]
  },
  {
   "cell_type": "markdown",
   "metadata": {
    "id": "Vmd0liXIgziT"
   },
   "source": [
    "# Kruskal Wallis Test (1Way ANOVA equivalent)"
   ]
  },
  {
   "cell_type": "code",
   "execution_count": 4,
   "metadata": {
    "id": "1OKLUCwqgNc-"
   },
   "outputs": [],
   "source": [
    "def KruskalWallis(A, B, C):\n",
    "    data = np.concatenate([A, B, C])\n",
    "    grps = ['A'] * len(A) + ['B'] * len(B) + ['C'] * len(C)\n",
    "    rnk = stats.rankdata(data)\n",
    "    df = pd.DataFrame({'Grp': grps, 'Val': data, 'Rnk': rnk}).sort_values(by='Val')\n",
    "    R = df.groupby('Grp')['Rnk'].sum()\n",
    "    n = np.array([len(A), len(B), len(C)])\n",
    "    H = (12 / (len(data) * (len(data) + 1))) * np.sum(R**2 / n) - 3 * (len(data) + 1)\n",
    "    p = 1 - stats.chi2.cdf(H, 2)\n",
    "    print(f\"H = {H:.4f}, p = {p:.4f}\")\n",
    "    print(\"Reject H0\" if p < 0.05 else \"Fail to reject H0\")\n"
   ]
  },
  {
   "cell_type": "markdown",
   "metadata": {
    "id": "MBRKaFfpha7T"
   },
   "source": [
    "# FriedMan Test"
   ]
  },
  {
   "cell_type": "code",
   "execution_count": 5,
   "metadata": {
    "id": "sMqb0mgKg_F3"
   },
   "outputs": [],
   "source": [
    "def Friedman(A, B, C):\n",
    "    d = np.array([A, B, C]).T\n",
    "    r = np.apply_along_axis(stats.rankdata, 1, d)\n",
    "    R = np.sum(r, axis=0)\n",
    "    n, k = d.shape\n",
    "    Q = (12 / (n * k * (k + 1))) * np.sum(R**2 / n) - 3 * n * (k + 1)\n",
    "    p = 1 - stats.chi2.cdf(Q, k - 1)\n",
    "    print(f\"Q: {Q:.4f}, p: {p:.4f}\")\n",
    "    print(\"Reject H0\" if p < 0.05 else \"Fail to reject H0\")"
   ]
  },
  {
   "cell_type": "code",
   "execution_count": null,
   "metadata": {
    "id": "v4yPTQ95hfiv"
   },
   "outputs": [],
   "source": []
  }
 ],
 "metadata": {
  "colab": {
   "provenance": []
  },
  "kernelspec": {
   "display_name": "Python 3",
   "language": "python",
   "name": "python3"
  },
  "language_info": {
   "codemirror_mode": {
    "name": "ipython",
    "version": 3
   },
   "file_extension": ".py",
   "mimetype": "text/x-python",
   "name": "python",
   "nbconvert_exporter": "python",
   "pygments_lexer": "ipython3",
   "version": "3.12.2"
  }
 },
 "nbformat": 4,
 "nbformat_minor": 4
}
