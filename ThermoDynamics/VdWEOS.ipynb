{
  "nbformat": 4,
  "nbformat_minor": 0,
  "metadata": {
    "colab": {
      "provenance": []
    },
    "kernelspec": {
      "name": "python3",
      "display_name": "Python 3"
    },
    "language_info": {
      "name": "python"
    }
  },
  "cells": [
    {
      "cell_type": "markdown",
      "source": [
        "# Johannes Diderik van der Waals Equation of State\n",
        "\n"
      ],
      "metadata": {
        "id": "ZXjjIA_37v0x"
      }
    },
    {
      "cell_type": "markdown",
      "source": [
        "$$\n",
        "P = \\frac{RT}{V-b} - \\frac{a}{V^2}\n",
        "$$"
      ],
      "metadata": {
        "id": "IQYckc-fkteT"
      }
    },
    {
      "cell_type": "code",
      "source": [
        "import math as m\n",
        "import cmath as cm\n",
        "import numpy as np"
      ],
      "metadata": {
        "id": "wVfzJPmFlJ1S"
      },
      "execution_count": 1,
      "outputs": []
    },
    {
      "cell_type": "code",
      "source": [
        "tc = 647.15  # K\n",
        "pc = 220.48e5  # Pa\n",
        "R = 8.31446261815324  # :)\n",
        "t = 473.15  # K\n",
        "\n",
        "def cubicsolver(a1, a2, a3):\n",
        "    q = (3*a2 - a1**2) / 9\n",
        "    r = (9*a1*a2 - 27*a3 - 2*a1**3) / 54\n",
        "    d = q**3 + r**2\n",
        "\n",
        "    if d <= 0:\n",
        "        theta = m.acos(r / m.sqrt(-q**3))\n",
        "        z1 = 2*m.sqrt(-q)*m.cos(theta/3) - a1/3\n",
        "        z2 = 2*m.sqrt(-q)*m.cos(theta/3 + 2*m.pi/3) - a1/3\n",
        "        z3 = 2*m.sqrt(-q)*m.cos(theta/3 + 4*m.pi/3) - a1/3\n",
        "        return z1, z2, z3\n",
        "    else:\n",
        "        s = (r + m.sqrt(d))**(1/3)\n",
        "        t = (r - m.sqrt(d))**(1/3)\n",
        "        z = s + t - a1/3\n",
        "        return z, z, z\n",
        "\n",
        "def fugacity(P, R, T, tc, pc):\n",
        "    a = (27 * R**2 * tc**2) / (64 * pc)\n",
        "    b = (R * tc) / (8 * pc)\n",
        "    A = (a * P) / (T**2 * R**2)\n",
        "    B = b * P / (T * R)\n",
        "    a1 = -1 - B\n",
        "    a2 = A\n",
        "    a3 = -A * B\n",
        "\n",
        "    z1, z2, z3 = cubicsolver(a1, a2, a3)\n",
        "\n",
        "    z_l = min(z1, z2, z3)\n",
        "    z_v = max(z1, z2, z3)\n",
        "\n",
        "    f_l = P * m.exp((z_l - 1 - A / z_l - m.log(z_l - B)))\n",
        "    f_v = P * m.exp((z_v - 1 - A / z_v - m.log(z_v - B)))\n",
        "\n",
        "    return f_l, f_v\n",
        "\n",
        "def fugacity_difference(P):\n",
        "    f_l, f_v = fugacity(P, R, t, tc, pc)\n",
        "    return f_v - f_l\n",
        "\n",
        "def regulafalsi(f, x1, x2, maxitr=500, tol=1e-5):\n",
        "    f1 = f(x1)\n",
        "    f2 = f(x2)\n",
        "    i = 0\n",
        "    error = 1\n",
        "    while i < maxitr and error >= tol:\n",
        "        x3 = (x1 * f(x2) - x2 * f(x1)) / (f(x2) - f(x1))\n",
        "        if f(x1) * f(x3) > 0:\n",
        "            error = abs(x3 - x2)\n",
        "            x1, x2 = x2, x3\n",
        "        elif f(x2) * f(x3) > 0:\n",
        "            error = abs(x3 - x1)\n",
        "            x1, x2 = x1, x3\n",
        "        i += 1\n",
        "    return x2\n",
        "\n",
        "P_guess_low = 1e5\n",
        "P_guess_high = 6e6\n",
        "\n",
        "optimal_pressure = regulafalsi(fugacity_difference, P_guess_low, P_guess_high)\n",
        "print(f\"The optimal pressure where fugacity of liquid equals vapor: {optimal_pressure:.2f} Pa\")\n"
      ],
      "metadata": {
        "colab": {
          "base_uri": "https://localhost:8080/"
        },
        "id": "mnY0zXwW9sII",
        "outputId": "ae08db00-a14c-46eb-b22a-16ef46b9541a"
      },
      "execution_count": null,
      "outputs": [
        {
          "output_type": "stream",
          "name": "stdout",
          "text": [
            "The optimal pressure where fugacity of liquid equals vapor: 5498029.76 Pa\n"
          ]
        }
      ]
    },
    {
      "cell_type": "code",
      "source": [
        "tc = 647.15  # K\n",
        "pc = 220.48e5  # Pa\n",
        "R = 8.31446261815324  # :)\n",
        "P = 1600000  # K\n",
        "\n",
        "def cubicsolver(a1, a2, a3):\n",
        "    q = (3*a2 - a1**2) / 9\n",
        "    r = (9*a1*a2 - 27*a3 - 2*a1**3) / 54\n",
        "    d = q**3 + r**2\n",
        "\n",
        "    if d <= 0:\n",
        "        theta = m.acos(r / m.sqrt(-q**3))\n",
        "        z1 = 2*m.sqrt(-q)*m.cos(theta/3) - a1/3\n",
        "        z2 = 2*m.sqrt(-q)*m.cos(theta/3 + 2*m.pi/3) - a1/3\n",
        "        z3 = 2*m.sqrt(-q)*m.cos(theta/3 + 4*m.pi/3) - a1/3\n",
        "        return z1, z2, z3\n",
        "    else:\n",
        "        s = (r + m.sqrt(d))**(1/3)\n",
        "        t = (r - m.sqrt(d))**(1/3)\n",
        "        z = s + t - a1/3\n",
        "        return z, z, z\n",
        "\n",
        "def fugacity(P, R, T, tc, pc):\n",
        "    a = (27 * R**2 * tc**2) / (64 * pc)\n",
        "    b = (R * tc) / (8 * pc)\n",
        "    A = (a * P) / (T**2 * R**2)\n",
        "    B = b * P / (T * R)\n",
        "    a1 = -1 - B\n",
        "    a2 = A\n",
        "    a3 = -A * B\n",
        "\n",
        "    z1, z2, z3 = cubicsolver(a1, a2, a3)\n",
        "\n",
        "    z_l = min(z1, z2, z3)\n",
        "    z_v = max(z1, z2, z3)\n",
        "\n",
        "    f_l = P * m.exp((z_l - 1 - A / z_l - m.log(z_l - B)))\n",
        "    f_v = P * m.exp((z_v - 1 - A / z_v - m.log(z_v - B)))\n",
        "\n",
        "    return f_l, f_v\n",
        "\n",
        "def fugacity_difference(P):\n",
        "    f_l, f_v = fugacity(P, R, t, tc, pc)\n",
        "    return f_v - f_l\n",
        "\n",
        "def regulafalsi(f, x1, x2, maxitr=500, tol=1e-5):\n",
        "    f1 = f(x1)\n",
        "    f2 = f(x2)\n",
        "    i = 0\n",
        "    error = 1\n",
        "    while i < maxitr and error >= tol:\n",
        "        x3 = (x1 * f(x2) - x2 * f(x1)) / (f(x2) - f(x1))\n",
        "        if f(x1) * f(x3) > 0:\n",
        "            error = abs(x3 - x2)\n",
        "            x1, x2 = x2, x3\n",
        "        elif f(x2) * f(x3) > 0:\n",
        "            error = abs(x3 - x1)\n",
        "            x1, x2 = x1, x3\n",
        "        i += 1\n",
        "    return x2\n",
        "\n",
        "P_guess_low = 1e5\n",
        "P_guess_high = 6e6\n",
        "\n",
        "optimal_pressure = regulafalsi(fugacity_difference, P_guess_low, P_guess_high)\n",
        "print(f\"The optimal pressure where fugacity of liquid equals vapor: {optimal_pressure:.2f} Pa\")\n"
      ],
      "metadata": {
        "colab": {
          "base_uri": "https://localhost:8080/",
          "height": 351
        },
        "id": "h1KdFJ6zBIWG",
        "outputId": "f83e45c4-6209-476e-bcf4-43cc5c7d294c"
      },
      "execution_count": 2,
      "outputs": [
        {
          "output_type": "error",
          "ename": "NameError",
          "evalue": "name 't' is not defined",
          "traceback": [
            "\u001b[0;31m---------------------------------------------------------------------------\u001b[0m",
            "\u001b[0;31mNameError\u001b[0m                                 Traceback (most recent call last)",
            "\u001b[0;32m/tmp/ipython-input-2-2302170424.py\u001b[0m in \u001b[0;36m<cell line: 0>\u001b[0;34m()\u001b[0m\n\u001b[1;32m     63\u001b[0m \u001b[0mP_guess_high\u001b[0m \u001b[0;34m=\u001b[0m \u001b[0;36m6e6\u001b[0m\u001b[0;34m\u001b[0m\u001b[0;34m\u001b[0m\u001b[0m\n\u001b[1;32m     64\u001b[0m \u001b[0;34m\u001b[0m\u001b[0m\n\u001b[0;32m---> 65\u001b[0;31m \u001b[0moptimal_pressure\u001b[0m \u001b[0;34m=\u001b[0m \u001b[0mregulafalsi\u001b[0m\u001b[0;34m(\u001b[0m\u001b[0mfugacity_difference\u001b[0m\u001b[0;34m,\u001b[0m \u001b[0mP_guess_low\u001b[0m\u001b[0;34m,\u001b[0m \u001b[0mP_guess_high\u001b[0m\u001b[0;34m)\u001b[0m\u001b[0;34m\u001b[0m\u001b[0;34m\u001b[0m\u001b[0m\n\u001b[0m\u001b[1;32m     66\u001b[0m \u001b[0mprint\u001b[0m\u001b[0;34m(\u001b[0m\u001b[0;34mf\"The optimal pressure where fugacity of liquid equals vapor: {optimal_pressure:.2f} Pa\"\u001b[0m\u001b[0;34m)\u001b[0m\u001b[0;34m\u001b[0m\u001b[0;34m\u001b[0m\u001b[0m\n",
            "\u001b[0;32m/tmp/ipython-input-2-2302170424.py\u001b[0m in \u001b[0;36mregulafalsi\u001b[0;34m(f, x1, x2, maxitr, tol)\u001b[0m\n\u001b[1;32m     45\u001b[0m \u001b[0;34m\u001b[0m\u001b[0m\n\u001b[1;32m     46\u001b[0m \u001b[0;32mdef\u001b[0m \u001b[0mregulafalsi\u001b[0m\u001b[0;34m(\u001b[0m\u001b[0mf\u001b[0m\u001b[0;34m,\u001b[0m \u001b[0mx1\u001b[0m\u001b[0;34m,\u001b[0m \u001b[0mx2\u001b[0m\u001b[0;34m,\u001b[0m \u001b[0mmaxitr\u001b[0m\u001b[0;34m=\u001b[0m\u001b[0;36m500\u001b[0m\u001b[0;34m,\u001b[0m \u001b[0mtol\u001b[0m\u001b[0;34m=\u001b[0m\u001b[0;36m1e-5\u001b[0m\u001b[0;34m)\u001b[0m\u001b[0;34m:\u001b[0m\u001b[0;34m\u001b[0m\u001b[0;34m\u001b[0m\u001b[0m\n\u001b[0;32m---> 47\u001b[0;31m     \u001b[0mf1\u001b[0m \u001b[0;34m=\u001b[0m \u001b[0mf\u001b[0m\u001b[0;34m(\u001b[0m\u001b[0mx1\u001b[0m\u001b[0;34m)\u001b[0m\u001b[0;34m\u001b[0m\u001b[0;34m\u001b[0m\u001b[0m\n\u001b[0m\u001b[1;32m     48\u001b[0m     \u001b[0mf2\u001b[0m \u001b[0;34m=\u001b[0m \u001b[0mf\u001b[0m\u001b[0;34m(\u001b[0m\u001b[0mx2\u001b[0m\u001b[0;34m)\u001b[0m\u001b[0;34m\u001b[0m\u001b[0;34m\u001b[0m\u001b[0m\n\u001b[1;32m     49\u001b[0m     \u001b[0mi\u001b[0m \u001b[0;34m=\u001b[0m \u001b[0;36m0\u001b[0m\u001b[0;34m\u001b[0m\u001b[0;34m\u001b[0m\u001b[0m\n",
            "\u001b[0;32m/tmp/ipython-input-2-2302170424.py\u001b[0m in \u001b[0;36mfugacity_difference\u001b[0;34m(P)\u001b[0m\n\u001b[1;32m     41\u001b[0m \u001b[0;34m\u001b[0m\u001b[0m\n\u001b[1;32m     42\u001b[0m \u001b[0;32mdef\u001b[0m \u001b[0mfugacity_difference\u001b[0m\u001b[0;34m(\u001b[0m\u001b[0mP\u001b[0m\u001b[0;34m)\u001b[0m\u001b[0;34m:\u001b[0m\u001b[0;34m\u001b[0m\u001b[0;34m\u001b[0m\u001b[0m\n\u001b[0;32m---> 43\u001b[0;31m     \u001b[0mf_l\u001b[0m\u001b[0;34m,\u001b[0m \u001b[0mf_v\u001b[0m \u001b[0;34m=\u001b[0m \u001b[0mfugacity\u001b[0m\u001b[0;34m(\u001b[0m\u001b[0mP\u001b[0m\u001b[0;34m,\u001b[0m \u001b[0mR\u001b[0m\u001b[0;34m,\u001b[0m \u001b[0mt\u001b[0m\u001b[0;34m,\u001b[0m \u001b[0mtc\u001b[0m\u001b[0;34m,\u001b[0m \u001b[0mpc\u001b[0m\u001b[0;34m)\u001b[0m\u001b[0;34m\u001b[0m\u001b[0;34m\u001b[0m\u001b[0m\n\u001b[0m\u001b[1;32m     44\u001b[0m     \u001b[0;32mreturn\u001b[0m \u001b[0mf_v\u001b[0m \u001b[0;34m-\u001b[0m \u001b[0mf_l\u001b[0m\u001b[0;34m\u001b[0m\u001b[0;34m\u001b[0m\u001b[0m\n\u001b[1;32m     45\u001b[0m \u001b[0;34m\u001b[0m\u001b[0m\n",
            "\u001b[0;31mNameError\u001b[0m: name 't' is not defined"
          ]
        }
      ]
    },
    {
      "cell_type": "code",
      "source": [
        "import numpy as np\n",
        "import matplotlib.pyplot as plt\n",
        "\n",
        "# Constants\n",
        "tc = 647.15  # K\n",
        "pc = 220.48e5  # Pa\n",
        "R = 8.31446261815324  # :)\n",
        "t = 473.15  # K\n",
        "R = 8.314  # J/(mol K), gas constant\n",
        "a = (27 * R**2 * tc**2) / (64 * pc)\n",
        "b = (R * tc) / (8 * pc)\n",
        "\n",
        "# Reduced temperatures\n",
        "Tr = [9/8, 1, 7/8, 4/5]\n",
        "\n",
        "# Critical constants\n",
        "\n",
        "Vc = (3 * b)  # L/mol, approximate critical volume\n",
        "\n",
        "# Plotting\n",
        "v = np.linspace(0.1, 3.0, 500) * Vc\n",
        "\n",
        "plt.figure()\n",
        "for T in Tr:\n",
        "    T_actual = T * tc\n",
        "    P = (8 * T_actual/tc) / (3*v/Vc -1) - 3 / (v/Vc)**2\n",
        "    plt.plot(v / Vc, P / pc, label=f'Tr={T:.2f}')\n",
        "\n",
        "plt.xlabel(r'Reduced Volume $v_r = \\frac{v}{v_c}$')\n",
        "plt.ylabel(r'Reduced Pressure $p_r = \\frac{p}{p_c}$')\n",
        "plt.xscale('log')\n",
        "plt.yscale('linear')\n",
        "plt.legend()\n",
        "plt.grid(True)\n",
        "plt.show()\n"
      ],
      "metadata": {
        "colab": {
          "base_uri": "https://localhost:8080/",
          "height": 462
        },
        "id": "fzpr2Xy9cRk7",
        "outputId": "a2c3ef80-e842-444b-a17e-8386f9843a72"
      },
      "execution_count": null,
      "outputs": [
        {
          "output_type": "display_data",
          "data": {
            "text/plain": [
              "<Figure size 640x480 with 1 Axes>"
            ],
            "image/png": "[encoded data removed]"
          },
          "metadata": {}
        }
      ]
    }
  ]
}